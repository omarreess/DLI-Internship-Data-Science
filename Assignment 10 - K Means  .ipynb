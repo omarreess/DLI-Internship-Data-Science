{
  "cells": [
    {
      "cell_type": "markdown",
      "metadata": {
        "id": "view-in-github",
        "colab_type": "text"
      },
      "source": [
        "<a href=\"https://colab.research.google.com/github/omarreess/DLI-Internship-Data-Science/blob/main/Assignment%2010%20-%20K%20Means%20%20.ipynb\" target=\"_parent\"><img src=\"https://colab.research.google.com/assets/colab-badge.svg\" alt=\"Open In Colab\"/></a>"
      ]
    },
    {
      "cell_type": "markdown",
      "metadata": {
        "id": "hRaO5cL5IX6I"
      },
      "source": [
        "<h1> <center> Unsupervised Learing with K-means Algorithm"
      ]
    },
    {
      "cell_type": "code",
      "execution_count": 1,
      "metadata": {
        "id": "JUXdf-zSC25m"
      },
      "outputs": [],
      "source": [
        "import numpy as np\n",
        "import matplotlib.pyplot as plt \n",
        "from keras.datasets import mnist\n",
        "from sklearn.cluster import KMeans, MiniBatchKMeans\n",
        "from sklearn.metrics import confusion_matrix, classification_report \n",
        "import seaborn as sns\n",
        "from matplotlib import rcParams\n",
        "from sklearn.metrics import precision_recall_fscore_support \n",
        "from sklearn.metrics import accuracy_score\n",
        "from tqdm import tqdm\n"
      ]
    },
    {
      "cell_type": "code",
      "execution_count": 2,
      "metadata": {
        "id": "64Fqr1MIZsvT",
        "colab": {
          "base_uri": "https://localhost:8080/"
        },
        "outputId": "63f161b6-6980-4fcb-c939-4f4cb0606ce6"
      },
      "outputs": [
        {
          "output_type": "stream",
          "name": "stdout",
          "text": [
            "Downloading data from https://storage.googleapis.com/tensorflow/tf-keras-datasets/mnist.npz\n",
            "11493376/11490434 [==============================] - 0s 0us/step\n",
            "11501568/11490434 [==============================] - 0s 0us/step\n"
          ]
        }
      ],
      "source": [
        "# Data \n",
        "(X_train, y_train), (X_test, y_test) = mnist.load_data()\n",
        "\n",
        "X_train = X_train.reshape(X_train.shape[0],-1)\n",
        "X_test = X_test.reshape(X_test.shape[0],-1)"
      ]
    },
    {
      "cell_type": "code",
      "execution_count": 3,
      "metadata": {
        "colab": {
          "base_uri": "https://localhost:8080/",
          "height": 313
        },
        "id": "Ueuygwf0Z1Jt",
        "outputId": "e6db48d3-1d62-4140-924a-fc7b1e5acc89"
      },
      "outputs": [
        {
          "output_type": "stream",
          "name": "stderr",
          "text": [
            "100%|██████████| 749/749 [2:56:22<00:00, 14.13s/it]\n"
          ]
        },
        {
          "output_type": "display_data",
          "data": {
            "text/plain": [
              "<Figure size 432x288 with 1 Axes>"
            ],
            "image/png": "[encoded data removed]"
          },
          "metadata": {
            "needs_background": "light"
          }
        }
      ],
      "source": [
        "# Getting Best clustters no. with Elbow Method \n",
        "\n",
        "inertia = [] \n",
        "max_clustters\t= 750\n",
        "for i in tqdm(range(1, max_clustters)):\n",
        " kmeans = MiniBatchKMeans(n_clusters = i) \n",
        " kmeans.fit(X_train) \n",
        " inertia.append(kmeans.inertia_)\n",
        " \n",
        "plt.plot(range(1, max_clustters), inertia) \n",
        "plt.title('The Elbow Method') \n",
        "plt.xlabel('Number of clusters') \n",
        "plt.ylabel('Inertia')\n",
        "plt.show()\n"
      ]
    }
  ],
  "metadata": {
    "colab": {
      "provenance": [],
      "collapsed_sections": [],
      "authorship_tag": "ABX9TyNTwnTrCqu8LOpwoN5Oupt/",
      "include_colab_link": true
    },
    "kernelspec": {
      "display_name": "Python 3",
      "name": "python3"
    },
    "language_info": {
      "name": "python"
    }
  },
  "nbformat": 4,
  "nbformat_minor": 0
}