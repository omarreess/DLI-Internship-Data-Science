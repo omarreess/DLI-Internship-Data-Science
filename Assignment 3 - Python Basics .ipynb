{
  "cells": [
    {
      "cell_type": "markdown",
      "metadata": {
        "id": "view-in-github",
        "colab_type": "text"
      },
      "source": [
        "<a href=\"https://colab.research.google.com/github/omarreess/Python-Projects-for-Data-Science/blob/main/Session%203%20Assignment%20(Python%20Basics).ipynb\" target=\"_parent\"><img src=\"https://colab.research.google.com/assets/colab-badge.svg\" alt=\"Open In Colab\"/></a>"
      ]
    },
    {
      "cell_type": "markdown",
      "metadata": {
        "id": "ocYUzEg5xz0E"
      },
      "source": [
        "# Tuples"
      ]
    },
    {
      "cell_type": "code",
      "execution_count": null,
      "metadata": {
        "colab": {
          "base_uri": "https://localhost:8080/"
        },
        "id": "H6zZgtqWxz0G",
        "outputId": "06fa490b-993b-4826-ae47-706a858bc35c"
      },
      "outputs": [
        {
          "output_type": "stream",
          "name": "stdout",
          "text": [
            " 1st var : 1  \n",
            " 2nd var : 2  \n",
            " 3rd var : [(3, 4), 4, 5, 6, 7, 7, 8, 8, 8, 8, 'abc']  \n"
          ]
        }
      ],
      "source": [
        "# unpack the tuple into 3 variables and print them\n",
        "tup1 = (1,2,(3,4),4,5,6,7,7,8,8,8,8, \"abc\")\n",
        "x1 , y1 , *z3 = tup1\n",
        "print (f\" 1st var : {x1}  \")\n",
        "print (f\" 2nd var : {y1}  \")\n",
        "print (f\" 3rd var : {z3}  \")"
      ]
    },
    {
      "cell_type": "code",
      "source": [
        "tup1 = (10,20,30)\n",
        "\n",
        "# Modify the 2nd element to be 100 instead of 20\n",
        "list2 = list (tup1)\n",
        "list2[1] = 100\n",
        "print (f' new tuples values {list2}')\n",
        "\n",
        " \n",
        "# Using a for loop, modify the tuple and multiply the values by 5 and save it in a new tuple with name tup2\n",
        "list3 = list()\n",
        "for x in tup1:\n",
        "  list3.append(x*5)\n",
        "tup2 = tuple(list3)\n",
        "print(f\"new tuple  {tup2}\")\n",
        "\n",
        "\n",
        "# Join tup1 with tup2 \n",
        "tup3 = tup1+ tup2\n",
        "\n",
        "print (f\"joinned tuple {tup3}\")"
      ],
      "metadata": {
        "colab": {
          "base_uri": "https://localhost:8080/"
        },
        "id": "Kie28fzw-21Q",
        "outputId": "9f167822-1ad9-40c5-8f9b-34c0316f9894"
      },
      "execution_count": null,
      "outputs": [
        {
          "output_type": "stream",
          "name": "stdout",
          "text": [
            " new tuples values [10, 100, 30]\n",
            "new tuple  (50, 100, 150)\n",
            "zipped tuple (10, 20, 30, 50, 100, 150)\n"
          ]
        }
      ]
    },
    {
      "cell_type": "markdown",
      "metadata": {
        "id": "G13wQomdWH_r"
      },
      "source": [
        "# Files\n"
      ]
    },
    {
      "cell_type": "code",
      "source": [
        "# Create a new file and write your name inside it and name the file \"My_name.txt\"\n",
        "newFile2 = open('My_name.txt' , 'w')\n",
        "newFile2 .write(\"Omar Essam Eldin\")\n",
        "newFile2 .close ()\n",
        "\n",
        "# Print the content of the file you created\n",
        "for inn in  open('My_name.txt'):\n",
        "  print (inn.rstrip())\n",
        "\n",
        "# Make a copy of the file you created \n",
        "import shutil as s \n",
        "newFile3 = open ( 'My_name2.txt' , 'w')\n",
        "s.copyfile ('My_name.txt' , 'My_name2.txt')\n",
        "newFile3.close()\n",
        "\n",
        "# Create a new file named \"Python.txt\" and write inside it \"Python is easy\\nC++ is not easy\"\n",
        "newFile4 = open('Python.txt', 'w')\n",
        "newFile4.write(\"Pyton is easy\\nc++ is not easy \")\n",
        "\n",
        "\n",
        "# Open the file \"Python.txt\" and append inside it the content of the file \"My_name.txt\"\n",
        "\n",
        "for x in open('My_name.txt'):\n",
        "  newFile4.write(x)\n",
        "\n",
        "newFile4.close() \n",
        "\n",
        " "
      ],
      "metadata": {
        "id": "T_EjyeysL0DZ",
        "colab": {
          "base_uri": "https://localhost:8080/"
        },
        "outputId": "37e13189-9066-4e74-89d7-1e1b384044fb"
      },
      "execution_count": null,
      "outputs": [
        {
          "output_type": "stream",
          "name": "stdout",
          "text": [
            "Omar Essam Eldin\n"
          ]
        }
      ]
    },
    {
      "cell_type": "code",
      "source": [
        "# Create a directory/folder with any name and copy any of the 2 files created inside it\n",
        "import os \n",
        "\n",
        "os.mkdir('dir2')\n",
        "os.mkdir('dir2'+'/flr')\n",
        "newFolder1 = open('dir2/flr/1st_copy.txt','w')\n",
        "s.copyfile('My_name.txt' , 'dir2/flr/1st_copy.txt')\n",
        "newFolder1.close()\n",
        "newFolder2=open('dir2/flr/2nd_copy.txt','w')\n",
        "s.copyfile('Python.txt','dir2/flr/2nd_copy.txt')\n",
        "newFolder2.close\n",
        "\n",
        "\n",
        "# Remove the folder you created\n",
        "s.rmtree('dir2')\n",
        "\n",
        "# Remove all text files you created\n",
        "for x in os.listdir():\n",
        "  if(x.endswith('.txt')):os.remove(x)\n"
      ],
      "metadata": {
        "id": "a-8nVWpWMSrP",
        "colab": {
          "base_uri": "https://localhost:8080/"
        },
        "outputId": "bd6a58fe-0890-4b0d-85e4-978aab83e408"
      },
      "execution_count": null,
      "outputs": [
        {
          "output_type": "stream",
          "name": "stdout",
          "text": [
            "<module 'posixpath' from '/usr/lib/python3.7/posixpath.py'>\n"
          ]
        }
      ]
    },
    {
      "cell_type": "markdown",
      "metadata": {
        "id": "AL7gWz_Xxz0K"
      },
      "source": [
        "# Functions"
      ]
    },
    {
      "cell_type": "code",
      "execution_count": null,
      "metadata": {
        "colab": {
          "base_uri": "https://localhost:8080/"
        },
        "id": "d3nqvikmxz0L",
        "outputId": "f26706e3-5a99-4dd1-b7e6-de9e21044dbc"
      },
      "outputs": [
        {
          "output_type": "stream",
          "name": "stdout",
          "text": [
            "25.0\n"
          ]
        }
      ],
      "source": [
        "# Create a function that takes 2 arguments and can do operations such as add, subtract, multiply and divide depending on a flag and test it \n",
        "def superF (opFlag:bool , num:int ):\n",
        "  #subtract & add\n",
        "  if(opFlag):\n",
        "    return ((num+num+num) - num)\n",
        "\n",
        "  #Multiply & divide\n",
        "  else:\n",
        "    return ((num*num*num)/num)\n",
        "\n",
        "\n",
        "\n",
        "print ( superF(False , 5 )  )\n",
        "\n"
      ]
    },
    {
      "cell_type": "code",
      "execution_count": null,
      "metadata": {
        "id": "QnxkTcq4xz0P"
      },
      "outputs": [],
      "source": [
        "# Create a function that takes 2 arguments\n",
        "# First argument is a string\n",
        "# Second argument is a file name\n",
        "\n",
        "# The function will take the string (first argument) and makes it upper case then writes it inside a file named with the second argument\n",
        "def sF(arg1 : str ,fileName : str ):\n",
        "   fileOpend=  open (fileName+\".txt\")\n",
        "   fileOpend.write(arg1.upper)\n",
        "   fileOpend.close\n",
        "   "
      ]
    },
    {
      "cell_type": "markdown",
      "source": [
        "# Generators"
      ],
      "metadata": {
        "id": "mUqUP93fPfmE"
      }
    },
    {
      "cell_type": "code",
      "source": [
        "# Create a generator that yields integer values\n",
        "def gen1 ():\n",
        "  x = 0 \n",
        "  while (x<10):\n",
        "    x =1+x\n",
        "    yield x\n",
        "\n",
        " \n",
        "# Run the generator and get the integer values and stop generating until you reach 10 integers\n",
        "for x in gen1():\n",
        " print(x)  "
      ],
      "metadata": {
        "id": "FTR9bd7nO_R7",
        "colab": {
          "base_uri": "https://localhost:8080/"
        },
        "outputId": "6f090a8e-68d8-436a-9d44-ee3396f14437"
      },
      "execution_count": null,
      "outputs": [
        {
          "output_type": "stream",
          "name": "stdout",
          "text": [
            "from loop 1\n",
            "1\n",
            "from loop 2\n",
            "2\n",
            "from loop 3\n",
            "3\n",
            "from loop 4\n",
            "4\n",
            "from loop 5\n",
            "5\n",
            "from loop 6\n",
            "6\n",
            "from loop 7\n",
            "7\n",
            "from loop 8\n",
            "8\n",
            "from loop 9\n",
            "9\n",
            "from loop 10\n",
            "10\n"
          ]
        }
      ]
    },
    {
      "cell_type": "code",
      "source": [
        "# Create a list of 100 integers\n",
        "listN=list(range(100))\n",
        "\n",
        "def my_gen(a):\n",
        "  i=0\n",
        "  while i<len(a):\n",
        "\n",
        "    b= a[i:i+20]\n",
        "    i+=20\n",
        "    yield b\n",
        "\n",
        "functionCall = my_gen(listN)\n",
        "\n",
        "\n",
        "print(next(functionCall))  \n",
        "print(f\"anothe 20 elements {next(functionCall)}\")"
      ],
      "metadata": {
        "id": "ZDnsQW8KQdAG",
        "colab": {
          "base_uri": "https://localhost:8080/"
        },
        "outputId": "01731125-c4da-4bd3-c33d-ed91a76c0915"
      },
      "execution_count": 2,
      "outputs": [
        {
          "output_type": "stream",
          "name": "stdout",
          "text": [
            "[0, 1, 2, 3, 4, 5, 6, 7, 8, 9, 10, 11, 12, 13, 14, 15, 16, 17, 18, 19]\n",
            "anothe 20 elements [20, 21, 22, 23, 24, 25, 26, 27, 28, 29, 30, 31, 32, 33, 34, 35, 36, 37, 38, 39]\n"
          ]
        }
      ]
    },
    {
      "cell_type": "code",
      "source": [
        "# Create a function that calls the generator (in previous cell) and saves the output (20 integers) inside a text file\n",
        "newFile1 = open('omarFile.txt','w')\n",
        "newFile1.write(str(next(functionCall)))\n",
        "newFile1.close()"
      ],
      "metadata": {
        "id": "rVjxzYryG3DV"
      },
      "execution_count": 3,
      "outputs": []
    }
  ],
  "metadata": {
    "accelerator": "GPU",
    "colab": {
      "collapsed_sections": [
        "ocYUzEg5xz0E",
        "AL7gWz_Xxz0K"
      ],
      "name": "S3 Assignment - Python Basics",
      "provenance": [],
      "include_colab_link": true
    },
    "kernelspec": {
      "display_name": "Python 3",
      "language": "python",
      "name": "python3"
    },
    "language_info": {
      "codemirror_mode": {
        "name": "ipython",
        "version": 3
      },
      "file_extension": ".py",
      "mimetype": "text/x-python",
      "name": "python",
      "nbconvert_exporter": "python",
      "pygments_lexer": "ipython3",
      "version": "3.7.3"
    }
  },
  "nbformat": 4,
  "nbformat_minor": 0
}
