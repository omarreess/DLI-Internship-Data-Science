{
  "cells": [
    {
      "cell_type": "markdown",
      "metadata": {
        "id": "IO96b9lSxzyG"
      },
      "source": [
        "# DataTypes"
      ]
    },
    {
      "cell_type": "code",
      "execution_count": null,
      "metadata": {
        "id": "YJEgKQNYxzyH",
        "colab": {
          "base_uri": "https://localhost:8080/"
        },
        "outputId": "a6ddfaae-0753-4170-b3ee-f27a805697d1"
      },
      "outputs": [
        {
          "output_type": "stream",
          "name": "stdout",
          "text": [
            "17\n",
            "x is 16\n",
            "<class 'int'>\n"
          ]
        }
      ],
      "source": [
        "# Create a variable named x and assign any integer value to it\n",
        "x = 16 # Put any integer here\n",
        "\n",
        "# Add 1 to x and print the x value\n",
        "x=x+1\n",
        "print(x)\n",
        "\n",
        "# Subtract 1 from x and print the x value\n",
        "print(f'x is {x-1}')\n",
        "# Print the type of x\n",
        "print(type(x))"
      ]
    },
    {
      "cell_type": "markdown",
      "metadata": {
        "id": "xzdr1QygxzyW"
      },
      "source": [
        "# Strings"
      ]
    },
    {
      "cell_type": "code",
      "execution_count": null,
      "metadata": {
        "id": "kz1ny7NBxzyY",
        "colab": {
          "base_uri": "https://localhost:8080/"
        },
        "outputId": "53e14d7a-18ad-47ca-e384-ed4da77257ad"
      },
      "outputs": [
        {
          "output_type": "stream",
          "name": "stdout",
          "text": [
            "hello world\n",
            "hi world\n",
            "Hello\n",
            "HELLO WORLD\n"
          ]
        }
      ],
      "source": [
        "x = 'hello'    \n",
        "y = \"world\"    \n",
        "\n",
        "#Concatenate hello world together in 1 string\n",
        "newString = x+\" \"+y\n",
        "print(newString)\n",
        "\n",
        "# Replace the word hello with hi\n",
        "newString2 = newString.replace(\"hello\",'hi')\n",
        "print(newString2)\n",
        "# Capitalize the first letter in hello\n",
        "newString3=x.capitalize()\n",
        "print(newString3)\n",
        "\n",
        "# Capitalize all the letters to uppercase\n",
        "newString4 = newString.upper()\n",
        "\n",
        "print(f'{newString4}')\n",
        "\n"
      ]
    },
    {
      "cell_type": "markdown",
      "metadata": {
        "id": "t9JdVRKgxzyk"
      },
      "source": [
        "# Lists"
      ]
    },
    {
      "cell_type": "code",
      "execution_count": null,
      "metadata": {
        "id": "Nko2qdRoxzyv",
        "colab": {
          "base_uri": "https://localhost:8080/"
        },
        "outputId": "9d9d10b9-6336-4b9b-c29d-2c24d97ceadf"
      },
      "outputs": [
        {
          "output_type": "stream",
          "name": "stdout",
          "text": [
            "[0, 1, 2, 3, 4]\n",
            "0\n",
            "first 2 elements 0 1\n",
            "4\n",
            " last 2 elememts 4 3\n",
            "1\n",
            "2\n",
            "3\n",
            "4\n"
          ]
        }
      ],
      "source": [
        "# Create a list of numbers from 0 to 4\n",
        "list = [0,1,2,3,4]\n",
        "print(list)\n",
        "\n",
        "# Print the first element of the list \n",
        "print(list[0])\n",
        "\n",
        "# Print the 1st and 2nd element of the list\n",
        "print(f'first 2 elements {list[0]} {list[1]}')\n",
        "\n",
        "# Print the last element of the list\n",
        "print(list[-1])\n",
        "\n",
        "# Print the last 2 elements of the list\n",
        "print(f' last 2 elememts {list[-1]} {list[-2]}')\n",
        "\n",
        "# Print from the 2nd element to the end of the list\n",
        "for index,v in enumerate(list) :\n",
        "    if(index>0): print(v)\n"
      ]
    },
    {
      "cell_type": "markdown",
      "metadata": {
        "id": "RyLcmBN4xzyz"
      },
      "source": [
        "# If conditions"
      ]
    },
    {
      "cell_type": "code",
      "execution_count": null,
      "metadata": {
        "id": "PgqQCWjU5LI8",
        "colab": {
          "base_uri": "https://localhost:8080/"
        },
        "outputId": "5a632c2e-0015-4dd1-c5b8-599811fbee16"
      },
      "outputs": [
        {
          "output_type": "stream",
          "name": "stdout",
          "text": [
            "OK\n"
          ]
        }
      ],
      "source": [
        "x= 10\n",
        "\n",
        "# Write If condition that prints \"OK\" if the value of x is more than 15 and prints \"NO\" if the value of x is less than 15\n",
        "if x>15 :\n",
        "  print(\"OK\")\n",
        "elif x<=15:\n",
        "  print(\"NO\")"
      ]
    },
    {
      "cell_type": "code",
      "execution_count": null,
      "metadata": {
        "id": "xSLJI-TS5LI8",
        "colab": {
          "base_uri": "https://localhost:8080/"
        },
        "outputId": "1fc8aeaf-68a4-4b8c-9715-6eb625d7b92b"
      },
      "outputs": [
        {
          "output_type": "stream",
          "name": "stdout",
          "text": [
            "NO\n"
          ]
        }
      ],
      "source": [
        "x = 5\n",
        "y = 10\n",
        "\n",
        "# Write If condition that checks if y is greater than or less than x, if y is less than x then it prints \"Yes\" else prints \"No\"\n",
        "if  y<x :\n",
        "  print(\"YES\")\n",
        "else:\n",
        "  print(\"NO\")"
      ]
    },
    {
      "cell_type": "markdown",
      "metadata": {
        "id": "5rWLp6Zyxzy0"
      },
      "source": [
        "# For loop"
      ]
    },
    {
      "cell_type": "code",
      "execution_count": null,
      "metadata": {
        "id": "YoyNtUi_xzy1",
        "colab": {
          "base_uri": "https://localhost:8080/"
        },
        "outputId": "8dd1e19f-03d0-4f51-ff11-6bee43dfc879"
      },
      "outputs": [
        {
          "output_type": "stream",
          "name": "stdout",
          "text": [
            "5\n",
            "10\n",
            "15\n",
            "20\n",
            "25\n",
            "1\n",
            "2\n"
          ]
        }
      ],
      "source": [
        "x = [1,2,3,4,5]\n",
        "\n",
        "# Write a for loop that takes each element from list x and multiplies by 5 and prints it\n",
        "for i in x:\n",
        "  print(i*5)\n",
        "\n",
        "# Write a for loop that prints the elements from list x and breaks when it finds the value 3\n",
        "for i in x:\n",
        "  if(i==3): break\n",
        "  print(i)"
      ]
    },
    {
      "cell_type": "code",
      "execution_count": null,
      "metadata": {
        "id": "TF3poAO_5LI9",
        "colab": {
          "base_uri": "https://localhost:8080/"
        },
        "outputId": "dc434ebd-d662-4fa9-db34-58e90dfae228"
      },
      "outputs": [
        {
          "output_type": "stream",
          "name": "stdout",
          "text": [
            "index : 0 & value : cat\n",
            "index : 1 & value : dog\n",
            "index : 2 & value : monkey\n"
          ]
        }
      ],
      "source": [
        "animals = ['cat', 'dog', 'monkey']\n",
        "\n",
        "# Print the index and value of the list animals using for loop     HINT use : enumerate\n",
        "for index,value in enumerate(animals):\n",
        "  print(f'index : {index} & value : {value}')"
      ]
    }
  ],
  "metadata": {
    "accelerator": "GPU",
    "colab": {
      "collapsed_sections": [],
      "name": "S1 Assigment (Python)",
      "provenance": []
    },
    "kernelspec": {
      "display_name": "Python 3",
      "language": "python",
      "name": "python3"
    },
    "language_info": {
      "codemirror_mode": {
        "name": "ipython",
        "version": 3
      },
      "file_extension": ".py",
      "mimetype": "text/x-python",
      "name": "python",
      "nbconvert_exporter": "python",
      "pygments_lexer": "ipython3",
      "version": "3.7.3"
    }
  },
  "nbformat": 4,
  "nbformat_minor": 0
}
