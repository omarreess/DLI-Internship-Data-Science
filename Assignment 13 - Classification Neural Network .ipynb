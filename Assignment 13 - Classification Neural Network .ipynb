{
  "nbformat": 4,
  "nbformat_minor": 0,
  "metadata": {
    "colab": {
      "provenance": [],
      "authorship_tag": "ABX9TyMO0wWnt/hWt9N+GHMIhOkl",
      "include_colab_link": true
    },
    "kernelspec": {
      "name": "python3",
      "display_name": "Python 3"
    },
    "language_info": {
      "name": "python"
    }
  },
  "cells": [
    {
      "cell_type": "markdown",
      "metadata": {
        "id": "view-in-github",
        "colab_type": "text"
      },
      "source": [
        "<a href=\"https://colab.research.google.com/github/omarreess/DLI-Internship-Data-Science/blob/main/Assignment%2013%20-%20Classification%20Neural%20Network%20.ipynb\" target=\"_parent\"><img src=\"https://colab.research.google.com/assets/colab-badge.svg\" alt=\"Open In Colab\"/></a>"
      ]
    },
    {
      "cell_type": "markdown",
      "source": [
        "<center><H1> Classification Task with Neurel Network Model "
      ],
      "metadata": {
        "id": "BitWjhd3Os5u"
      }
    },
    {
      "cell_type": "markdown",
      "source": [
        "<H2> Handling Data for Model "
      ],
      "metadata": {
        "id": "vIhFkqX0Wk8n"
      }
    },
    {
      "cell_type": "code",
      "execution_count": 50,
      "metadata": {
        "id": "4lrI7yI5OarV"
      },
      "outputs": [],
      "source": [
        "# Get Data \n",
        "\n",
        "from keras.datasets import mnist\n",
        "(train_images, train_labels), (test_images, test_labels) = mnist.load_data()"
      ]
    },
    {
      "cell_type": "code",
      "source": [
        "# Checking Data Shape \n",
        "train_images.shape"
      ],
      "metadata": {
        "colab": {
          "base_uri": "https://localhost:8080/"
        },
        "id": "yk_1DHu7O_aI",
        "outputId": "578b9955-6d2d-4fb1-a860-3d44a5553e41"
      },
      "execution_count": 51,
      "outputs": [
        {
          "output_type": "execute_result",
          "data": {
            "text/plain": [
              "(60000, 28, 28)"
            ]
          },
          "metadata": {},
          "execution_count": 51
        }
      ]
    },
    {
      "cell_type": "code",
      "source": [
        "# Plot sample of data \n",
        "\n",
        "import cv2\n",
        "from google.colab.patches import cv2_imshow\n",
        "import numpy as np\n",
        " \n",
        "\n",
        "first_image = test_images[0]\n",
        "cv2_imshow(first_image)"
      ],
      "metadata": {
        "colab": {
          "base_uri": "https://localhost:8080/",
          "height": 45
        },
        "id": "BhCHkFDFPFCV",
        "outputId": "6a61e2ad-23e0-4bd9-eb18-fc8a5b420996"
      },
      "execution_count": 52,
      "outputs": [
        {
          "output_type": "display_data",
          "data": {
            "text/plain": [
              "<PIL.Image.Image image mode=L size=28x28 at 0x7F4F2AA50110>"
            ],
            "image/png": "[encoded data removed]"
          },
          "metadata": {}
        }
      ]
    },
    {
      "cell_type": "code",
      "source": [
        "# Reshaping Data \n",
        "\n",
        "train_images = train_images.reshape((60000, 28 * 28))\n",
        "train_images = train_images.astype('float32') / 255\n",
        "\n",
        "test_images = test_images.reshape((10000, 28 * 28))\n",
        "test_images = test_images.astype('float32') / 255\n",
        "\n",
        "train_images.shape"
      ],
      "metadata": {
        "colab": {
          "base_uri": "https://localhost:8080/"
        },
        "id": "6LoS-hQbP7t7",
        "outputId": "db9add8b-7aa3-4a51-ab04-585ab6189f5c"
      },
      "execution_count": 53,
      "outputs": [
        {
          "output_type": "execute_result",
          "data": {
            "text/plain": [
              "(60000, 784)"
            ]
          },
          "metadata": {},
          "execution_count": 53
        }
      ]
    },
    {
      "cell_type": "code",
      "source": [
        "# Labeling Data classes \n",
        "\n",
        "from tensorflow.keras.utils import to_categorical\n",
        "\n",
        "train_labels = to_categorical(train_labels)\n",
        "test_labels = to_categorical(test_labels)\n",
        "\n",
        "test_labels[0]"
      ],
      "metadata": {
        "colab": {
          "base_uri": "https://localhost:8080/"
        },
        "id": "_TnBmlO8QIK8",
        "outputId": "cfba9eb7-835f-4583-a0e5-2f2f073df9b4"
      },
      "execution_count": 54,
      "outputs": [
        {
          "output_type": "execute_result",
          "data": {
            "text/plain": [
              "array([0., 0., 0., 0., 0., 0., 0., 1., 0., 0.], dtype=float32)"
            ]
          },
          "metadata": {},
          "execution_count": 54
        }
      ]
    },
    {
      "cell_type": "markdown",
      "source": [
        "<H2> Make Our Neurel Network Model  "
      ],
      "metadata": {
        "id": "Iwl1qjn1RGJ4"
      }
    },
    {
      "cell_type": "code",
      "source": [
        "# Model Layers \n",
        "\n",
        "from keras import models, layers\n",
        "\n",
        "network = models.Sequential()\n",
        "network.add(layers.Dense(700, activation='relu', name='Layer_1', input_shape=(28 * 28,)))\n",
        "network.add(layers.Dense(10, name='Layer_2' , activation='softmax'))\n",
        "network.summary()"
      ],
      "metadata": {
        "colab": {
          "base_uri": "https://localhost:8080/"
        },
        "id": "1hDm7uP5TF6q",
        "outputId": "bbc61770-5a80-45e1-86fa-e3bfcbcdea9d"
      },
      "execution_count": 55,
      "outputs": [
        {
          "output_type": "stream",
          "name": "stdout",
          "text": [
            "Model: \"sequential_6\"\n",
            "_________________________________________________________________\n",
            " Layer (type)                Output Shape              Param #   \n",
            "=================================================================\n",
            " Layer_1 (Dense)             (None, 700)               549500    \n",
            "                                                                 \n",
            " Layer_2 (Dense)             (None, 10)                7010      \n",
            "                                                                 \n",
            "=================================================================\n",
            "Total params: 556,510\n",
            "Trainable params: 556,510\n",
            "Non-trainable params: 0\n",
            "_________________________________________________________________\n"
          ]
        }
      ]
    },
    {
      "cell_type": "code",
      "source": [
        "# Plot Model Layers\n",
        "\n",
        "from tensorflow.keras.utils import plot_model\n",
        "plot_model(network)"
      ],
      "metadata": {
        "colab": {
          "base_uri": "https://localhost:8080/",
          "height": 272
        },
        "id": "IKm9M4AHU0FE",
        "outputId": "1d063085-96b3-414a-8391-4ab0bdbe1c1a"
      },
      "execution_count": 56,
      "outputs": [
        {
          "output_type": "execute_result",
          "data": {
            "image/png": "[encoded data removed]",
            "text/plain": [
              "<IPython.core.display.Image object>"
            ]
          },
          "metadata": {},
          "execution_count": 56
        }
      ]
    },
    {
      "cell_type": "code",
      "source": [
        "# Model's Metric & Optimizer\n",
        " \n",
        "network.compile(optimizer='adam',\n",
        "                loss='categorical_crossentropy',\n",
        "                metrics=['accuracy'])"
      ],
      "metadata": {
        "id": "Om0_xTHFU4Ul"
      },
      "execution_count": 57,
      "outputs": []
    },
    {
      "cell_type": "code",
      "source": [
        "# Model Learning \n",
        "\n",
        "network.fit(train_images, train_labels, epochs=5, batch_size=128)"
      ],
      "metadata": {
        "colab": {
          "base_uri": "https://localhost:8080/"
        },
        "id": "GXPoi0EpViAJ",
        "outputId": "bce8c01e-5de8-4018-9583-3a602f422d1c"
      },
      "execution_count": 58,
      "outputs": [
        {
          "output_type": "stream",
          "name": "stdout",
          "text": [
            "Epoch 1/5\n",
            "469/469 [==============================] - 6s 11ms/step - loss: 0.2555 - accuracy: 0.9267\n",
            "Epoch 2/5\n",
            "469/469 [==============================] - 5s 11ms/step - loss: 0.0999 - accuracy: 0.9702\n",
            "Epoch 3/5\n",
            "469/469 [==============================] - 5s 11ms/step - loss: 0.0627 - accuracy: 0.9811\n",
            "Epoch 4/5\n",
            "469/469 [==============================] - 5s 11ms/step - loss: 0.0440 - accuracy: 0.9866\n",
            "Epoch 5/5\n",
            "469/469 [==============================] - 5s 11ms/step - loss: 0.0322 - accuracy: 0.9904\n"
          ]
        },
        {
          "output_type": "execute_result",
          "data": {
            "text/plain": [
              "<keras.callbacks.History at 0x7f4f2a83e850>"
            ]
          },
          "metadata": {},
          "execution_count": 58
        }
      ]
    },
    {
      "cell_type": "code",
      "source": [
        "# Getting Model's Accuracy for Test data \n",
        "\n",
        "test_loss, test_acc = network.evaluate(test_images, test_labels)"
      ],
      "metadata": {
        "colab": {
          "base_uri": "https://localhost:8080/"
        },
        "id": "oQ3nnGaWVqx3",
        "outputId": "a716bfe2-8ff4-4b79-de8c-4a9524566c46"
      },
      "execution_count": 59,
      "outputs": [
        {
          "output_type": "stream",
          "name": "stdout",
          "text": [
            "313/313 [==============================] - 1s 3ms/step - loss: 0.0616 - accuracy: 0.9804\n"
          ]
        }
      ]
    },
    {
      "cell_type": "code",
      "source": [
        "# Validate Sample of data \n",
        "\n",
        "import matplotlib.pyplot as plt\n",
        "import numpy as np\n",
        "ID  = 0\n",
        "img = test_images[ID]\n",
        "plt.imshow(np.reshape(img, (28,28)))\n",
        "print(f\"label = {test_labels[ID]}  with argmax = {np.argmax(test_labels[ID])}\")"
      ],
      "metadata": {
        "colab": {
          "base_uri": "https://localhost:8080/",
          "height": 283
        },
        "id": "Kc_OMzGHV47y",
        "outputId": "21f56cc1-337d-4ccc-8903-f16b15c34438"
      },
      "execution_count": 60,
      "outputs": [
        {
          "output_type": "stream",
          "name": "stdout",
          "text": [
            "label = [0. 0. 0. 0. 0. 0. 0. 1. 0. 0.]  with argmax = 7\n"
          ]
        },
        {
          "output_type": "display_data",
          "data": {
            "text/plain": [
              "<Figure size 432x288 with 1 Axes>"
            ],
            "image/png": "[encoded data removed]"
          },
          "metadata": {
            "needs_background": "light"
          }
        }
      ]
    }
  ]
}