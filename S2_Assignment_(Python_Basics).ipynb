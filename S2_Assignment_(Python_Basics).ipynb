{
  "cells": [
    {
      "cell_type": "markdown",
      "metadata": {
        "id": "C6VZdDJ2ekis"
      },
      "source": [
        "# Zip"
      ]
    },
    {
      "cell_type": "code",
      "execution_count": 2,
      "metadata": {
        "id": "dhfyWCULekiw",
        "colab": {
          "base_uri": "https://localhost:8080/"
        },
        "outputId": "2ea425bf-99fd-4ac8-ba71-29a79950a730"
      },
      "outputs": [
        {
          "output_type": "stream",
          "name": "stdout",
          "text": [
            "[('E1', 'V1'), ('E2', 'V2'), ('E3', 'V3')]\n"
          ]
        }
      ],
      "source": [
        "list1 = ['E1', 'E2', 'E3']\n",
        "list2 = ['V1', 'V2', 'V3']\n",
        "\n",
        "# Use zip function to make pairs from the 2 lists above and cast them into list and print\n",
        "zippedList = list(zip(list1 , list2))\n",
        "print(zippedList)\n",
        " "
      ]
    },
    {
      "cell_type": "code",
      "execution_count": null,
      "metadata": {
        "colab": {
          "base_uri": "https://localhost:8080/"
        },
        "id": "-JOuA25Eeki0",
        "outputId": "76545f90-2c48-4d40-df3b-88c94162fa30"
      },
      "outputs": [
        {
          "output_type": "stream",
          "name": "stdout",
          "text": [
            "('E1', 'V1')\n",
            "('E2', 'V2')\n",
            "('E3', 'V3')\n"
          ]
        }
      ],
      "source": [
        "list1 = ['E1', 'E2', 'E3']\n",
        "list2 = ['V1', 'V2', 'V3']\n",
        "\n",
        "# Use zip function in a for loop to print the elements inside the 2 lists \n",
        "for x in zippedList :\n",
        "  print(x)\n"
      ]
    },
    {
      "cell_type": "code",
      "execution_count": null,
      "metadata": {
        "id": "wfXoKMoCrOY1",
        "colab": {
          "base_uri": "https://localhost:8080/"
        },
        "outputId": "46149a70-96e1-4188-e608-24cb0d491c05"
      },
      "outputs": [
        {
          "output_type": "stream",
          "name": "stdout",
          "text": [
            "index: 0 x: ('E1', 'V1')\n",
            "index: 1 x: ('E2', 'V2')\n",
            "index: 2 x: ('E3', 'V3')\n"
          ]
        }
      ],
      "source": [
        "list1 = ['E1', 'E2', 'E3']\n",
        "list2 = ['V1', 'V2', 'V3']\n",
        "zippedList = zip(list1 , list2)\n",
        "\n",
        "# Use enumerate with zip function in a for loop to print the elements inside the 2 lists and also their index\n",
        "for index,x in enumerate(zippedList) :\n",
        "    print(f'index: {index} x: {x}')\n"
      ]
    },
    {
      "cell_type": "markdown",
      "source": [
        "# While loop"
      ],
      "metadata": {
        "id": "qT4OvE68jnVO"
      }
    },
    {
      "cell_type": "code",
      "execution_count": null,
      "metadata": {
        "colab": {
          "base_uri": "https://localhost:8080/"
        },
        "id": "3pkLmXZnjWv8",
        "outputId": "6ce5cd1d-2cc4-42ab-9472-73b6aaba1c94"
      },
      "outputs": [
        {
          "output_type": "stream",
          "name": "stdout",
          "text": [
            "10\n",
            "20\n",
            "30\n",
            "40\n",
            "50\n",
            "60\n"
          ]
        }
      ],
      "source": [
        "list1 = [10, 20, 30, 40, 50, 60]\n",
        "\n",
        "# Create a while loop to print the elements of the list\n",
        "i =0\n",
        "while i<len(list1):\n",
        "    print(list1[i])\n",
        "    i=i+1"
      ]
    },
    {
      "cell_type": "code",
      "execution_count": null,
      "metadata": {
        "colab": {
          "base_uri": "https://localhost:8080/"
        },
        "id": "Fys17_DIxzzE",
        "outputId": "43af520e-64d4-40a3-bb98-759064b170d8"
      },
      "outputs": [
        {
          "output_type": "stream",
          "name": "stdout",
          "text": [
            "[10, 11, 12, 13, 14]\n"
          ]
        }
      ],
      "source": [
        "list1 = [0, 1, 2, 3, 4]\n",
        "\n",
        "# Create a new list that has the elements of list1 but with addition of 10 for example 0+10, 1+10, 2+10 etc..  \n",
        "#HINT: using a for loop and append or use list comprehension method\n",
        "list2 = [i+10 for i in list1]\n",
        "print(list2)"
      ]
    },
    {
      "cell_type": "code",
      "source": [
        "list1 = [10, 1, 21, 13, 4]\n",
        "\n",
        "# Reverse list1 without sorting and print the list\n",
        "list1.reverse()\n",
        "print(list1)\n",
        "# Sort list1 ascendingly and print the list\n",
        "list1.sort()\n",
        "print(list1)\n",
        "\n",
        "# Sort list1 descendingly and print the list\n",
        "list1.sort(reverse=True)\n",
        "\n",
        "print(list1)\n",
        "\n",
        "# insert any number at the 5th index of the list and print the list\n",
        "list1.insert(5,7)\n",
        "print(list1)\n",
        "# Remove the inserted number using pop and its index and print the list\n",
        "list1.pop() \n",
        "#or\n",
        "#del list1[5]\n",
        "print(list1)\n",
        "\n",
        "list2 = [\"H\", \"E\", \"L\", \"L\", \"O\"]\n",
        "\n",
        "# Extend list1 with list2\n",
        "list1.extend(list2)\n",
        "print(list1)"
      ],
      "metadata": {
        "colab": {
          "base_uri": "https://localhost:8080/"
        },
        "id": "Tcfg_rtUSzbc",
        "outputId": "1f0b3ff0-8d87-4520-b875-8bf759e79d59"
      },
      "execution_count": null,
      "outputs": [
        {
          "output_type": "stream",
          "name": "stdout",
          "text": [
            "[4, 13, 21, 1, 10]\n",
            "[1, 4, 10, 13, 21]\n",
            "[21, 13, 10, 4, 1]\n",
            "[21, 13, 10, 4, 1, 7]\n",
            "[21, 13, 10, 4, 1]\n",
            "[21, 13, 10, 4, 1, 'H', 'E', 'L', 'L', 'O']\n"
          ]
        }
      ]
    },
    {
      "cell_type": "markdown",
      "metadata": {
        "id": "JYPvelUvxzzb"
      },
      "source": [
        "# Dictionary"
      ]
    },
    {
      "cell_type": "code",
      "source": [
        "D = {\"1st\": 100, \"2nd\":90}\n",
        "\n",
        "# Add 3rd key in the dictionary and fill the value with 80\n",
        "D[\"3rd\"] = 80\n",
        "print(D)"
      ],
      "metadata": {
        "colab": {
          "base_uri": "https://localhost:8080/"
        },
        "id": "DIVX-gLuUCGV",
        "outputId": "01040537-1aa9-48e5-943e-1f30beed0993"
      },
      "execution_count": null,
      "outputs": [
        {
          "output_type": "stream",
          "name": "stdout",
          "text": [
            "{'1st': 100, '2nd': 90, '3rd': 80}\n"
          ]
        }
      ]
    },
    {
      "cell_type": "code",
      "source": [
        "# Create a for loop that shows the keys of the dictionary in the above cell\n",
        "for x in D.keys() :\n",
        "   print(x)\n",
        "\n",
        "# Create a for loop that shows the values of the dictionary in the above cell\n",
        "for x in D.values() :\n",
        "   print(x)\n",
        "\n",
        "# Create a for loop that shows both the keys and values of the dictionary in the above cell\n",
        "for x in D.keys() :\n",
        "   print(f'keys : {x}  value : {D[x]}')\n",
        "\n",
        "# Create a for loop that shows the index and the keys and values of the dictionary in the above cell\n",
        "for index,x in enumerate(D) :\n",
        "   print(f'index : {index} keys : {x}  value : {D[x]}')"
      ],
      "metadata": {
        "colab": {
          "base_uri": "https://localhost:8080/"
        },
        "id": "-D6fOlwYUVLF",
        "outputId": "fac85058-daf0-4faa-9b89-fa217ba3f29c"
      },
      "execution_count": null,
      "outputs": [
        {
          "output_type": "stream",
          "name": "stdout",
          "text": [
            "1st\n",
            "2nd\n",
            "3rd\n",
            "100\n",
            "90\n",
            "80\n",
            "keys : 1st  value : 100\n",
            "keys : 2nd  value : 90\n",
            "keys : 3rd  value : 80\n",
            "index : 0 keys : 1st  value : 100\n",
            "index : 1 keys : 2nd  value : 90\n",
            "index : 2 keys : 3rd  value : 80\n"
          ]
        }
      ]
    },
    {
      "cell_type": "code",
      "execution_count": null,
      "metadata": {
        "colab": {
          "base_uri": "https://localhost:8080/"
        },
        "id": "TN2IWBEDxzzt",
        "outputId": "0bf8e1bc-0671-4855-c0e5-e38c6c5490de"
      },
      "outputs": [
        {
          "output_type": "stream",
          "name": "stdout",
          "text": [
            "{0: 10, 1: 11, 2: 12, 3: 13, 4: 14}\n"
          ]
        }
      ],
      "source": [
        "list1 = [0, 1, 2, 3, 4]\n",
        "\n",
        "# Use dictionary comprehension to create a dictionary from list1 which has keys as the elements and the values as the old values + 10\n",
        "newMap = {key: key+10 for key in list1}\n",
        "print(newMap)\n"
      ]
    },
    {
      "cell_type": "markdown",
      "metadata": {
        "id": "c8ramLzCxzzy"
      },
      "source": [
        "# Sets"
      ]
    },
    {
      "cell_type": "code",
      "execution_count": null,
      "metadata": {
        "colab": {
          "base_uri": "https://localhost:8080/"
        },
        "id": "9dWVhfwJxzzy",
        "outputId": "aa030ad8-c745-4923-9a38-c7ba114da6f5"
      },
      "outputs": [
        {
          "output_type": "stream",
          "name": "stdout",
          "text": [
            "{2, 3, 4, 5, 7}\n"
          ]
        }
      ],
      "source": [
        "# Create a set of 5 numbers\n",
        "newSet = {1 ,2 , 3 , 4 ,5}\n",
        "\n",
        "# Add an element to the set\n",
        "newSet.add(7)\n",
        "\n",
        "# Remove an element from the set\n",
        "newSet .remove(1)\n",
        "\n",
        "\n",
        "print(newSet)"
      ]
    },
    {
      "cell_type": "code",
      "execution_count": 1,
      "metadata": {
        "colab": {
          "base_uri": "https://localhost:8080/"
        },
        "id": "75jsda2eekiA",
        "outputId": "f254a30c-70a8-4266-ca09-a91e6e883da1"
      },
      "outputs": [
        {
          "output_type": "stream",
          "name": "stdout",
          "text": [
            "{3, 4, 5}\n"
          ]
        }
      ],
      "source": [
        "a = {1, 2, 3, 4, 5}\n",
        "b = {3, 4, 5, 6, 7, 8}\n",
        "\n",
        "# Print the intersection between the 2 sets above\n",
        "print(a.intersection(b))"
      ]
    }
  ],
  "metadata": {
    "colab": {
      "collapsed_sections": [],
      "name": "S2 Assignment (Python Basics)",
      "provenance": []
    },
    "kernelspec": {
      "display_name": "Python 3",
      "language": "python",
      "name": "python3"
    },
    "language_info": {
      "codemirror_mode": {
        "name": "ipython",
        "version": 3
      },
      "file_extension": ".py",
      "mimetype": "text/x-python",
      "name": "python",
      "nbconvert_exporter": "python",
      "pygments_lexer": "ipython3",
      "version": "3.7.3"
    },
    "gpuClass": "standard"
  },
  "nbformat": 4,
  "nbformat_minor": 0
}