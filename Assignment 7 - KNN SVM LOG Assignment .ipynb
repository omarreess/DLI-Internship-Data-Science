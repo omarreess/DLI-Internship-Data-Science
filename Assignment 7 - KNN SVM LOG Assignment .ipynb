{
  "cells": [
    {
      "cell_type": "markdown",
      "metadata": {
        "id": "view-in-github",
        "colab_type": "text"
      },
      "source": [
        "<a href=\"https://colab.research.google.com/github/omarreess/DLI-Internship-Data-Science/blob/main/Assignment%207%20-%20KNN%20SVM%20LOG%20Assignment%20.ipynb\" target=\"_parent\"><img src=\"https://colab.research.google.com/assets/colab-badge.svg\" alt=\"Open In Colab\"/></a>"
      ]
    },
    {
      "cell_type": "markdown",
      "metadata": {
        "id": "n40Hti9RnJs6"
      },
      "source": [
        "<h1> <center> KNN , SVM & Logistic Reg Assignment"
      ]
    },
    {
      "cell_type": "markdown",
      "metadata": {
        "id": "Hea3JNnOoEZU"
      },
      "source": [
        "<h2> Importing"
      ]
    },
    {
      "cell_type": "code",
      "execution_count": 1,
      "metadata": {
        "id": "Cx4tNgKtj1uK"
      },
      "outputs": [],
      "source": [
        "import numpy as np\n",
        "import matplotlib.pyplot as plt \n",
        "from keras.datasets import mnist\n",
        "from sklearn.neighbors import KNeighborsClassifier \n",
        "from sklearn.metrics import confusion_matrix \n",
        "import seaborn as sns\n",
        "from matplotlib import rcParams\n",
        "from sklearn.metrics import precision_recall_fscore_support \n",
        "from sklearn.metrics import accuracy_score,classification_report,precision_recall_fscore_support,roc_auc_score,roc_curve,auc\n",
        "from sklearn.preprocessing import label_binarize\n",
        "from sklearn.multiclass import OneVsRestClassifier, OneVsOneClassifier \n",
        "from sklearn.linear_model import LogisticRegression \n",
        "from sklearn.svm import SVC\n",
        "import seaborn as sns\n",
        "from sklearn.model_selection import GridSearchCV\n",
        "from sklearn.model_selection import cross_val_score\n",
        "\n",
        "\n"
      ]
    },
    {
      "cell_type": "markdown",
      "metadata": {
        "id": "pdtiMIgToKfR"
      },
      "source": [
        "<h2> Importing Dataset"
      ]
    },
    {
      "cell_type": "code",
      "execution_count": 2,
      "metadata": {
        "colab": {
          "base_uri": "https://localhost:8080/",
          "height": 255
        },
        "id": "PSXg3IBykEBD",
        "outputId": "20a217cc-375c-4e1c-c4f0-76ead52e0159"
      },
      "outputs": [
        {
          "output_type": "stream",
          "name": "stdout",
          "text": [
            "Downloading data from https://storage.googleapis.com/tensorflow/tf-keras-datasets/mnist.npz\n",
            "11493376/11490434 [==============================] - 0s 0us/step\n",
            "11501568/11490434 [==============================] - 0s 0us/step\n"
          ]
        },
        {
          "output_type": "display_data",
          "data": {
            "text/plain": [
              "<Figure size 432x288 with 2 Axes>"
            ],
            "image/png": "[encoded data removed]"
          },
          "metadata": {
            "needs_background": "light"
          }
        }
      ],
      "source": [
        "(X_train, y_train), (X_test, y_test) = mnist.load_data() \n",
        "\n",
        "# show sample of data\n",
        "plt.subplot(1, 2, 1) \n",
        "plt.imshow(X_test[0]) \n",
        "\n",
        "plt.subplot(1, 2, 2) \n",
        "plt.imshow(X_test[1]) \n",
        " \n",
        "plt.show()\n"
      ]
    },
    {
      "cell_type": "markdown",
      "metadata": {
        "id": "MvVprtn2oQbW"
      },
      "source": [
        "<h2> Reshaping Data"
      ]
    },
    {
      "cell_type": "code",
      "execution_count": 3,
      "metadata": {
        "colab": {
          "base_uri": "https://localhost:8080/"
        },
        "id": "mJKUggNylTYA",
        "outputId": "316ced11-7c45-401f-fda9-f87073af64f0"
      },
      "outputs": [
        {
          "output_type": "stream",
          "name": "stdout",
          "text": [
            "Data shape : (60000, 28, 28)  \n",
            "New Data shape : (60000, 784)\n"
          ]
        }
      ],
      "source": [
        "print(f\"Data shape : {X_train.shape}  \")\n",
        "\n",
        "# reshape \n",
        "X_train = X_train.reshape(X_train.shape[0] , -1)\n",
        "X_test = X_test.reshape(X_test.shape[0] , -1)\n",
        "\n",
        "print(f\"New Data shape : {X_train.shape}\")\n",
        "\n",
        "\n"
      ]
    },
    {
      "cell_type": "markdown",
      "metadata": {
        "id": "OrQT9OeeoVFx"
      },
      "source": [
        "<h2> Data normalization"
      ]
    },
    {
      "cell_type": "code",
      "execution_count": 4,
      "metadata": {
        "colab": {
          "base_uri": "https://localhost:8080/"
        },
        "id": "AKcIpYQskGoy",
        "outputId": "3418f008-ba5c-4682-d46a-5b5bb7b0be92"
      },
      "outputs": [
        {
          "output_type": "stream",
          "name": "stdout",
          "text": [
            "Its Max value : 255\n",
            "Its Min value:0\n",
            "After normalization:\n",
            "Its Max value : 1.0\n",
            "Its Min value:0.0\n"
          ]
        }
      ],
      "source": [
        "\n",
        "print(f'Its Max value : {X_train.max()}\\nIts Min value:{X_train.min()}') \n",
        "X_train = X_train  / 255.0\n",
        "X_test = X_test / 255.0\n",
        "print(f'After normalization:\\nIts Max value : {X_train.max()}\\nIts Min value:{X_train.min()}')\n"
      ]
    },
    {
      "cell_type": "markdown",
      "metadata": {
        "id": "vIF_4WEAocuj"
      },
      "source": [
        "<h2> Trainning Data\n"
      ]
    },
    {
      "cell_type": "code",
      "execution_count": 5,
      "metadata": {
        "colab": {
          "base_uri": "https://localhost:8080/"
        },
        "id": "WGArkE-qllaI",
        "outputId": "f47f819e-5ef7-4d75-d943-c4110c3b19c4"
      },
      "outputs": [
        {
          "output_type": "stream",
          "name": "stdout",
          "text": [
            "Actual result : 7 \n",
            "Predicted result :7\n",
            "\n"
          ]
        }
      ],
      "source": [
        "K_number = round(np.sqrt(X_train.shape[0]))  \n",
        "Knn_classifier = KNeighborsClassifier(n_neighbors = K_number) \n",
        "Knn_classifier.fit(X_train, y_train)\n",
        "Predicted_result= Knn_classifier.predict(X_test )\n",
        "Predicted_result_proba = Knn_classifier.predict_proba(X_test )\n",
        "\n",
        "print (f'Actual result : {y_test[0]} \\nPredicted result :{Predicted_result[0]}\\n')\n"
      ]
    },
    {
      "cell_type": "markdown",
      "metadata": {
        "id": "FKyLo8nnoztv"
      },
      "source": [
        "<h2> KNN Metric "
      ]
    },
    {
      "cell_type": "code",
      "execution_count": 6,
      "metadata": {
        "colab": {
          "base_uri": "https://localhost:8080/",
          "height": 797
        },
        "id": "DlJvhsX2kJtu",
        "outputId": "ee569509-628e-4bb1-b52d-71dc4895e063"
      },
      "outputs": [
        {
          "output_type": "stream",
          "name": "stdout",
          "text": [
            "              precision    recall  f1-score   support\n",
            "\n",
            "           0       0.94      0.98      0.96       980\n",
            "           1       0.82      1.00      0.90      1135\n",
            "           2       0.99      0.84      0.91      1032\n",
            "           3       0.93      0.94      0.94      1010\n",
            "           4       0.96      0.90      0.93       982\n",
            "           5       0.95      0.90      0.93       892\n",
            "           6       0.95      0.97      0.96       958\n",
            "           7       0.92      0.90      0.91      1028\n",
            "           8       0.97      0.85      0.91       974\n",
            "           9       0.87      0.94      0.90      1009\n",
            "\n",
            "    accuracy                           0.92     10000\n",
            "   macro avg       0.93      0.92      0.92     10000\n",
            "weighted avg       0.93      0.92      0.92     10000\n",
            "\n"
          ]
        },
        {
          "output_type": "display_data",
          "data": {
            "text/plain": [
              "<Figure size 864x576 with 2 Axes>"
            ],
            "image/png": "[encoded data removed]"
          },
          "metadata": {}
        }
      ],
      "source": [
        "classes_num = range(y_train.min() , y_train.max())\n",
        "cm = confusion_matrix(y_test, Predicted_result)\n",
        "\n",
        "# C Matrix\n",
        "rcParams['figure.figsize'] = 12,8\n",
        "sns.set(font_scale = 1.2)\n",
        "sns.heatmap(cm, fmt='d', annot=True, xticklabels=range(y_train.min() , y_train.max()))\n",
        "\n",
        "# Report\n",
        "print(classification_report(y_test,Predicted_result))\n",
        "\n",
        "\n"
      ]
    },
    {
      "cell_type": "markdown",
      "source": [
        "<H2> Calculate AUC , F1 Score with Average Methods"
      ],
      "metadata": {
        "id": "95WjOl3pOvSL"
      }
    },
    {
      "cell_type": "code",
      "source": [
        "# Binarize data for getting AUC \n",
        "y_test_bin = label_binarize(y_test, classes=range(y_train.min() , y_train.max())) \n",
        "y_pred_bin = label_binarize(Predicted_result, classes=range(y_train.min() , y_train.max()))\n"
      ],
      "metadata": {
        "id": "WnZPiklNSCUs"
      },
      "execution_count": 7,
      "outputs": []
    },
    {
      "cell_type": "code",
      "source": [
        "# Calculate AUC ,F1 , Recall , Precision using Average Methods\n",
        "# make a generic fucntion for it , as we will call it multiple times \n",
        "\n",
        "def get_classfier_metrics(y_test_params:list ,predicted_result_params :list, y_test_bin_params:list , predicted_result_bin_params:list ):\n",
        " average_methods = ['micro','macro','weighted']\n",
        " for method in average_methods:\n",
        "  Precision,Recall,F1_score,_\t= precision_recall_fscore_support(y_test_params, predicted_result_params, average=method)\n",
        "  Accuracy = accuracy_score(y_test_params, predicted_result_params)\n",
        "  auc_ovr = roc_auc_score(y_test_bin_params, predicted_result_bin_params, average=method, multi_class='ovr') \n",
        "  print(f'{method}:')\n",
        "  print(f'Precision: {round(Precision*100,2)}%\\nRecall: {round(Recall*100,2)}%\\nF1 score: {round(F1_score*100,2)}% \\nAUC OVR :{round(auc_ovr*100,2)}%\\n')\n",
        "\n",
        "\n",
        "get_classfier_metrics(y_test ,Predicted_result , y_test_bin ,y_pred_bin  )"
      ],
      "metadata": {
        "colab": {
          "base_uri": "https://localhost:8080/"
        },
        "id": "m5ETYGulOufL",
        "outputId": "fd2e2ceb-9564-41e4-85a7-b75cfcd6d71d"
      },
      "execution_count": 8,
      "outputs": [
        {
          "output_type": "stream",
          "name": "stdout",
          "text": [
            "micro:\n",
            "Precision: 92.38%\n",
            "Recall: 92.38%\n",
            "F1 score: 92.38% \n",
            "AUC OVR :95.74%\n",
            "\n",
            "macro:\n",
            "Precision: 93.03%\n",
            "Recall: 92.3%\n",
            "F1 score: 92.44% \n",
            "AUC OVR :95.69%\n",
            "\n",
            "weighted:\n",
            "Precision: 92.85%\n",
            "Recall: 92.38%\n",
            "F1 score: 92.38% \n",
            "AUC OVR :95.72%\n",
            "\n"
          ]
        }
      ]
    },
    {
      "cell_type": "markdown",
      "source": [
        "<H2> Plotting ROC Curve "
      ],
      "metadata": {
        "id": "JWcI4MDKeyGs"
      }
    },
    {
      "cell_type": "code",
      "source": [
        "# Calculate FP , TP rate\n",
        "fpr, tpr, _ = roc_curve(y_test_bin.ravel(), y_pred_bin.ravel()  )\n",
        "\n",
        "# Get AUC , \n",
        "# using macro  as we observed it have best score\n",
        "auc = roc_auc_score(y_test_bin, y_pred_bin, average='macro', multi_class='ovr')\n",
        " \n",
        "#Plot ROC curve\n",
        "sns.set_style(\"darkgrid\")\n",
        "plt.figure(figsize=(10,7))\n",
        "\n",
        "sns.lineplot(x=fpr,y=tpr , label= f\"AUC = {auc}\" ,palette=\"crest\" )\n",
        "plt.ylabel('True Positive Rate')\n",
        "plt.xlabel('False Positive Rate')\n",
        "plt.xlim([0.0, 1.0])\n",
        "plt.ylim([0.0, 1.0]) \n",
        "plt.title('ROC')\n",
        "plt.legend(loc=5)\n",
        "plt.show()\n"
      ],
      "metadata": {
        "colab": {
          "base_uri": "https://localhost:8080/",
          "height": 469
        },
        "id": "RCVu-2qlTGcz",
        "outputId": "a368c4a5-67f2-4a17-bce0-84fceab45f08"
      },
      "execution_count": 9,
      "outputs": [
        {
          "output_type": "display_data",
          "data": {
            "text/plain": [
              "<Figure size 720x504 with 1 Axes>"
            ],
            "image/png": "[encoded data removed]"
          },
          "metadata": {}
        }
      ]
    },
    {
      "cell_type": "markdown",
      "source": [
        "<H2> Improving Our KNN Model"
      ],
      "metadata": {
        "id": "47HQxKNwq98J"
      }
    },
    {
      "cell_type": "code",
      "source": [
        "# Using Grid Search \n",
        "# with 4 iterations for k-cross validation  & K niegbhors from 1:11\n",
        "\n",
        "param_grid = dict(n_neighbors=list(range(1, 11)))\n",
        "grid_search_KNN = GridSearchCV( KNeighborsClassifier(algorithm='auto'), param_grid, cv=4, scoring='f1_macro')\n",
        "grid_search_KNN.fit( X_train, y_train)\n",
        "\n",
        "  "
      ],
      "metadata": {
        "id": "kcqYexy3hKjB",
        "colab": {
          "base_uri": "https://localhost:8080/"
        },
        "outputId": "a095e388-b133-4471-de88-c85ae0719e6c"
      },
      "execution_count": 10,
      "outputs": [
        {
          "output_type": "execute_result",
          "data": {
            "text/plain": [
              "GridSearchCV(cv=4, estimator=KNeighborsClassifier(),\n",
              "             param_grid={'n_neighbors': [1, 2, 3, 4, 5, 6, 7, 8, 9, 10]},\n",
              "             scoring='f1_macro')"
            ]
          },
          "metadata": {},
          "execution_count": 10
        }
      ]
    },
    {
      "cell_type": "code",
      "source": [
        "print (f\"Best F1 score for KNN : {round(100*grid_search_KNN.best_score_,2)}%  with K neighbors = {grid_search_KNN.best_params_['n_neighbors']}\")\n"
      ],
      "metadata": {
        "colab": {
          "base_uri": "https://localhost:8080/"
        },
        "id": "qWronVrNlqE8",
        "outputId": "3de119d8-d5c6-40c0-cac8-0bd000923a51"
      },
      "execution_count": 11,
      "outputs": [
        {
          "output_type": "stream",
          "name": "stdout",
          "text": [
            "Best F1 score for KNN : 96.92%  with K neighbors = 3\n"
          ]
        }
      ]
    },
    {
      "cell_type": "markdown",
      "source": [
        "<H2> Fitting Dataset with SVM Model "
      ],
      "metadata": {
        "id": "4Z-wUeZz1aO1"
      }
    },
    {
      "cell_type": "code",
      "source": [
        " # Fitting data with SVM Model with different kernels\n",
        " # Fitting using SVMf\n",
        " \n",
        "param_grid = { 'kernel': ['rbf', 'poly', 'sigmoid','linear']}\n",
        "grid_search_SVC = GridSearchCV(SVC(),param_grid, cv = 4)\n",
        "grid_search_SVC.fit( X_train, y_train)\n"
      ],
      "metadata": {
        "id": "AFc50X_rrFjk",
        "colab": {
          "base_uri": "https://localhost:8080/"
        },
        "outputId": "81009a7e-c74f-4939-b8d4-cd00f7ceaf0c"
      },
      "execution_count": 12,
      "outputs": [
        {
          "output_type": "execute_result",
          "data": {
            "text/plain": [
              "GridSearchCV(cv=4, estimator=SVC(),\n",
              "             param_grid={'kernel': ['rbf', 'poly', 'sigmoid', 'linear']})"
            ]
          },
          "metadata": {},
          "execution_count": 12
        }
      ]
    },
    {
      "cell_type": "code",
      "source": [
        " print (f\"Best F1 score for SVM : {round(100*grid_search_SVC.best_score_,2)}%  with Kernel : {grid_search_SVC.best_params_['kernel']}\")\n",
        "\n"
      ],
      "metadata": {
        "colab": {
          "base_uri": "https://localhost:8080/"
        },
        "id": "ab-l7l1l2CVp",
        "outputId": "9dc603af-d278-4b40-a7a5-021985427217"
      },
      "execution_count": 13,
      "outputs": [
        {
          "output_type": "stream",
          "name": "stdout",
          "text": [
            "Best F1 score for SVM : 97.63%  with Kernel : rbf\n"
          ]
        }
      ]
    },
    {
      "cell_type": "markdown",
      "source": [
        "<H2> Fitting Dataset with Logisitc Regression "
      ],
      "metadata": {
        "id": "omtIqu6HHxfb"
      }
    },
    {
      "cell_type": "code",
      "source": [
        "# Fitting using Logistic \n",
        "classifier_logistic = LogisticRegression() \n",
        "classifier_logistic.fit(X_train, y_train)\n",
        "prediected_result_logistic = classifier_logistic.predict(X_test)\n",
        "\n",
        "\n",
        "\n",
        "print('\\nLogistic Reg Metric')\n",
        "y_pred_bin_logistic = label_binarize(prediected_result_logistic, classes=range(y_train.min() , y_train.max()))\n"
      ],
      "metadata": {
        "colab": {
          "base_uri": "https://localhost:8080/"
        },
        "id": "AlqaTkOgHleI",
        "outputId": "4cb2dd8a-850a-4f69-9c1a-705335fd2e58"
      },
      "execution_count": 14,
      "outputs": [
        {
          "output_type": "stream",
          "name": "stderr",
          "text": [
            "/usr/local/lib/python3.7/dist-packages/sklearn/linear_model/_logistic.py:818: ConvergenceWarning: lbfgs failed to converge (status=1):\n",
            "STOP: TOTAL NO. of ITERATIONS REACHED LIMIT.\n",
            "\n",
            "Increase the number of iterations (max_iter) or scale the data as shown in:\n",
            "    https://scikit-learn.org/stable/modules/preprocessing.html\n",
            "Please also refer to the documentation for alternative solver options:\n",
            "    https://scikit-learn.org/stable/modules/linear_model.html#logistic-regression\n",
            "  extra_warning_msg=_LOGISTIC_SOLVER_CONVERGENCE_MSG,\n"
          ]
        },
        {
          "output_type": "stream",
          "name": "stdout",
          "text": [
            "\n",
            "Logistic Reg Metric\n"
          ]
        }
      ]
    },
    {
      "cell_type": "code",
      "source": [
        "# Metric for Logisitc Reg \n",
        "\n",
        "get_classfier_metrics(y_test ,prediected_result_logistic , y_test_bin ,y_pred_bin_logistic  )\n",
        "print (f'For Logistic Reg Actual result : {y_test[0]} \\nPredicted result :{prediected_result_logistic[0]}\\n')\n"
      ],
      "metadata": {
        "colab": {
          "base_uri": "https://localhost:8080/"
        },
        "id": "d4KQHwB-EGii",
        "outputId": "872a51cf-7aff-499a-8538-a3ea792d0242"
      },
      "execution_count": 15,
      "outputs": [
        {
          "output_type": "stream",
          "name": "stdout",
          "text": [
            "micro:\n",
            "Precision: 92.58%\n",
            "Recall: 92.58%\n",
            "F1 score: 92.58% \n",
            "AUC OVR :95.94%\n",
            "\n",
            "macro:\n",
            "Precision: 92.5%\n",
            "Recall: 92.48%\n",
            "F1 score: 92.48% \n",
            "AUC OVR :95.88%\n",
            "\n",
            "weighted:\n",
            "Precision: 92.57%\n",
            "Recall: 92.58%\n",
            "F1 score: 92.57% \n",
            "AUC OVR :95.94%\n",
            "\n",
            "For Logistic Reg Actual result : 7 \n",
            "Predicted result :7\n",
            "\n"
          ]
        }
      ]
    }
  ],
  "metadata": {
    "colab": {
      "collapsed_sections": [],
      "provenance": [],
      "authorship_tag": "ABX9TyPLHiVv3HGeNBcrfdGsamA+",
      "include_colab_link": true
    },
    "kernelspec": {
      "display_name": "Python 3",
      "name": "python3"
    },
    "language_info": {
      "name": "python"
    }
  },
  "nbformat": 4,
  "nbformat_minor": 0
}