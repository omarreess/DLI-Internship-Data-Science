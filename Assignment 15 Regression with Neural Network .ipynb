{
  "cells": [
    {
      "cell_type": "markdown",
      "metadata": {
        "id": "view-in-github",
        "colab_type": "text"
      },
      "source": [
        "<a href=\"https://colab.research.google.com/github/omarreess/DLI-Internship-Data-Science/blob/main/Assignment%2015%20Regression%20with%20Neural%20Network%20.ipynb\" target=\"_parent\"><img src=\"https://colab.research.google.com/assets/colab-badge.svg\" alt=\"Open In Colab\"/></a>"
      ]
    },
    {
      "cell_type": "markdown",
      "source": [
        "<h1> <center> Regression with Neural Network "
      ],
      "metadata": {
        "id": "n40Hti9RnJs6"
      }
    },
    {
      "cell_type": "markdown",
      "source": [
        "<h2> Importing"
      ],
      "metadata": {
        "id": "Hea3JNnOoEZU"
      }
    },
    {
      "cell_type": "code",
      "execution_count": 148,
      "metadata": {
        "id": "Cx4tNgKtj1uK"
      },
      "outputs": [],
      "source": [
        "import numpy as np \n",
        "import pandas as pd\n",
        "from sklearn.compose import ColumnTransformer\n",
        "from sklearn.preprocessing import LabelEncoder, OneHotEncoder, MinMaxScaler \n",
        "from sklearn.model_selection import train_test_split\n",
        "from sklearn.metrics import  mean_squared_error, mean_absolute_error, r2_score , mean_absolute_percentage_error\n",
        "from matplotlib import pyplot as plt \n",
        "import seaborn as sns \n",
        "\n",
        "from tensorflow.keras import Model\n",
        "from tensorflow.keras import Sequential\n",
        "from tensorflow.keras.optimizers import Adam\n",
        "from sklearn.preprocessing import StandardScaler\n",
        "from sklearn.preprocessing import MinMaxScaler\n",
        "from tensorflow.keras.layers import Dense, Dropout\n",
        "from sklearn.model_selection import train_test_split\n",
        "from tensorflow.keras.losses import MeanSquaredLogarithmicError\n",
        "from sklearn.metrics import mean_absolute_error,mean_squared_error,mean_absolute_percentage_error\n"
      ]
    },
    {
      "cell_type": "markdown",
      "source": [
        "<h2> Importing Dataset"
      ],
      "metadata": {
        "id": "pdtiMIgToKfR"
      }
    },
    {
      "cell_type": "code",
      "execution_count": 149,
      "metadata": {
        "colab": {
          "base_uri": "https://localhost:8080/",
          "height": 206
        },
        "id": "PSXg3IBykEBD",
        "outputId": "61899841-39ee-40b8-97eb-4e1ac8da3070"
      },
      "outputs": [
        {
          "output_type": "execute_result",
          "data": {
            "text/plain": [
              "   R&D Spend  Administration  Marketing Spend       State     Profit\n",
              "0  165349.20       136897.80        471784.10    New York  192261.83\n",
              "1  162597.70       151377.59        443898.53  California  191792.06\n",
              "2  153441.51       101145.55        407934.54     Florida  191050.39\n",
              "3  144372.41       118671.85        383199.62    New York  182901.99\n",
              "4  142107.34        91391.77        366168.42     Florida  166187.94"
            ],
            "text/html": [
              "\n",
              "  <div id=\"df-cc76f18a-b2f6-4bc3-81fd-9f20a6c8665c\">\n",
              "    <div class=\"colab-df-container\">\n",
              "      <div>\n",
              "<style scoped>\n",
              "    .dataframe tbody tr th:only-of-type {\n",
              "        vertical-align: middle;\n",
              "    }\n",
              "\n",
              "    .dataframe tbody tr th {\n",
              "        vertical-align: top;\n",
              "    }\n",
              "\n",
              "    .dataframe thead th {\n",
              "        text-align: right;\n",
              "    }\n",
              "</style>\n",
              "<table border=\"1\" class=\"dataframe\">\n",
              "  <thead>\n",
              "    <tr style=\"text-align: right;\">\n",
              "      <th></th>\n",
              "      <th>R&amp;D Spend</th>\n",
              "      <th>Administration</th>\n",
              "      <th>Marketing Spend</th>\n",
              "      <th>State</th>\n",
              "      <th>Profit</th>\n",
              "    </tr>\n",
              "  </thead>\n",
              "  <tbody>\n",
              "    <tr>\n",
              "      <th>0</th>\n",
              "      <td>165349.20</td>\n",
              "      <td>136897.80</td>\n",
              "      <td>471784.10</td>\n",
              "      <td>New York</td>\n",
              "      <td>192261.83</td>\n",
              "    </tr>\n",
              "    <tr>\n",
              "      <th>1</th>\n",
              "      <td>162597.70</td>\n",
              "      <td>151377.59</td>\n",
              "      <td>443898.53</td>\n",
              "      <td>California</td>\n",
              "      <td>191792.06</td>\n",
              "    </tr>\n",
              "    <tr>\n",
              "      <th>2</th>\n",
              "      <td>153441.51</td>\n",
              "      <td>101145.55</td>\n",
              "      <td>407934.54</td>\n",
              "      <td>Florida</td>\n",
              "      <td>191050.39</td>\n",
              "    </tr>\n",
              "    <tr>\n",
              "      <th>3</th>\n",
              "      <td>144372.41</td>\n",
              "      <td>118671.85</td>\n",
              "      <td>383199.62</td>\n",
              "      <td>New York</td>\n",
              "      <td>182901.99</td>\n",
              "    </tr>\n",
              "    <tr>\n",
              "      <th>4</th>\n",
              "      <td>142107.34</td>\n",
              "      <td>91391.77</td>\n",
              "      <td>366168.42</td>\n",
              "      <td>Florida</td>\n",
              "      <td>166187.94</td>\n",
              "    </tr>\n",
              "  </tbody>\n",
              "</table>\n",
              "</div>\n",
              "      <button class=\"colab-df-convert\" onclick=\"convertToInteractive('df-cc76f18a-b2f6-4bc3-81fd-9f20a6c8665c')\"\n",
              "              title=\"Convert this dataframe to an interactive table.\"\n",
              "              style=\"display:none;\">\n",
              "        \n",
              "  <svg xmlns=\"http://www.w3.org/2000/svg\" height=\"24px\"viewBox=\"0 0 24 24\"\n",
              "       width=\"24px\">\n",
              "    <path d=\"M0 0h24v24H0V0z\" fill=\"none\"/>\n",
              "    <path d=\"M18.56 5.44l.94 2.06.94-2.06 2.06-.94-2.06-.94-.94-2.06-.94 2.06-2.06.94zm-11 1L8.5 8.5l.94-2.06 2.06-.94-2.06-.94L8.5 2.5l-.94 2.06-2.06.94zm10 10l.94 2.06.94-2.06 2.06-.94-2.06-.94-.94-2.06-.94 2.06-2.06.94z\"/><path d=\"M17.41 7.96l-1.37-1.37c-.4-.4-.92-.59-1.43-.59-.52 0-1.04.2-1.43.59L10.3 9.45l-7.72 7.72c-.78.78-.78 2.05 0 2.83L4 21.41c.39.39.9.59 1.41.59.51 0 1.02-.2 1.41-.59l7.78-7.78 2.81-2.81c.8-.78.8-2.07 0-2.86zM5.41 20L4 18.59l7.72-7.72 1.47 1.35L5.41 20z\"/>\n",
              "  </svg>\n",
              "      </button>\n",
              "      \n",
              "  <style>\n",
              "    .colab-df-container {\n",
              "      display:flex;\n",
              "      flex-wrap:wrap;\n",
              "      gap: 12px;\n",
              "    }\n",
              "\n",
              "    .colab-df-convert {\n",
              "      background-color: #E8F0FE;\n",
              "      border: none;\n",
              "      border-radius: 50%;\n",
              "      cursor: pointer;\n",
              "      display: none;\n",
              "      fill: #1967D2;\n",
              "      height: 32px;\n",
              "      padding: 0 0 0 0;\n",
              "      width: 32px;\n",
              "    }\n",
              "\n",
              "    .colab-df-convert:hover {\n",
              "      background-color: #E2EBFA;\n",
              "      box-shadow: 0px 1px 2px rgba(60, 64, 67, 0.3), 0px 1px 3px 1px rgba(60, 64, 67, 0.15);\n",
              "      fill: #174EA6;\n",
              "    }\n",
              "\n",
              "    [theme=dark] .colab-df-convert {\n",
              "      background-color: #3B4455;\n",
              "      fill: #D2E3FC;\n",
              "    }\n",
              "\n",
              "    [theme=dark] .colab-df-convert:hover {\n",
              "      background-color: #434B5C;\n",
              "      box-shadow: 0px 1px 3px 1px rgba(0, 0, 0, 0.15);\n",
              "      filter: drop-shadow(0px 1px 2px rgba(0, 0, 0, 0.3));\n",
              "      fill: #FFFFFF;\n",
              "    }\n",
              "  </style>\n",
              "\n",
              "      <script>\n",
              "        const buttonEl =\n",
              "          document.querySelector('#df-cc76f18a-b2f6-4bc3-81fd-9f20a6c8665c button.colab-df-convert');\n",
              "        buttonEl.style.display =\n",
              "          google.colab.kernel.accessAllowed ? 'block' : 'none';\n",
              "\n",
              "        async function convertToInteractive(key) {\n",
              "          const element = document.querySelector('#df-cc76f18a-b2f6-4bc3-81fd-9f20a6c8665c');\n",
              "          const dataTable =\n",
              "            await google.colab.kernel.invokeFunction('convertToInteractive',\n",
              "                                                     [key], {});\n",
              "          if (!dataTable) return;\n",
              "\n",
              "          const docLinkHtml = 'Like what you see? Visit the ' +\n",
              "            '<a target=\"_blank\" href=https://colab.research.google.com/notebooks/data_table.ipynb>data table notebook</a>'\n",
              "            + ' to learn more about interactive tables.';\n",
              "          element.innerHTML = '';\n",
              "          dataTable['output_type'] = 'display_data';\n",
              "          await google.colab.output.renderOutput(dataTable, element);\n",
              "          const docLink = document.createElement('div');\n",
              "          docLink.innerHTML = docLinkHtml;\n",
              "          element.appendChild(docLink);\n",
              "        }\n",
              "      </script>\n",
              "    </div>\n",
              "  </div>\n",
              "  "
            ]
          },
          "metadata": {},
          "execution_count": 149
        }
      ],
      "source": [
        "dataset = pd.read_csv('/content/50_Startups - 50_Startups.csv')\n",
        "dataset.head()\n",
        "\n"
      ]
    },
    {
      "cell_type": "markdown",
      "source": [
        "<h2> Exploring Data"
      ],
      "metadata": {
        "id": "MvVprtn2oQbW"
      }
    },
    {
      "cell_type": "code",
      "execution_count": 150,
      "metadata": {
        "colab": {
          "base_uri": "https://localhost:8080/"
        },
        "id": "mJKUggNylTYA",
        "outputId": "2f50d7fb-e7a7-40ea-fbae-69b38b2c7e0b"
      },
      "outputs": [
        {
          "output_type": "stream",
          "name": "stdout",
          "text": [
            "<class 'pandas.core.frame.DataFrame'>\n",
            "RangeIndex: 50 entries, 0 to 49\n",
            "Data columns (total 5 columns):\n",
            " #   Column           Non-Null Count  Dtype  \n",
            "---  ------           --------------  -----  \n",
            " 0   R&D Spend        50 non-null     float64\n",
            " 1   Administration   50 non-null     float64\n",
            " 2   Marketing Spend  50 non-null     float64\n",
            " 3   State            49 non-null     object \n",
            " 4   Profit           50 non-null     float64\n",
            "dtypes: float64(4), object(1)\n",
            "memory usage: 2.1+ KB\n"
          ]
        }
      ],
      "source": [
        "dataset.info()"
      ]
    },
    {
      "cell_type": "markdown",
      "source": [
        "<h2> Check Empty Cells"
      ],
      "metadata": {
        "id": "OrQT9OeeoVFx"
      }
    },
    {
      "cell_type": "code",
      "execution_count": 151,
      "metadata": {
        "colab": {
          "base_uri": "https://localhost:8080/"
        },
        "id": "AKcIpYQskGoy",
        "outputId": "c5390a23-92d6-49f8-e942-48e4616010c9"
      },
      "outputs": [
        {
          "output_type": "execute_result",
          "data": {
            "text/plain": [
              "R&D Spend          0\n",
              "Administration     0\n",
              "Marketing Spend    0\n",
              "State              1\n",
              "Profit             0\n",
              "dtype: int64"
            ]
          },
          "metadata": {},
          "execution_count": 151
        }
      ],
      "source": [
        "dataset.isna().sum()"
      ]
    },
    {
      "cell_type": "markdown",
      "source": [
        "<h2> Handling Missing Data\n"
      ],
      "metadata": {
        "id": "vIF_4WEAocuj"
      }
    },
    {
      "cell_type": "markdown",
      "source": [
        "As the empty cells ratio very small corresponding to rest of data"
      ],
      "metadata": {
        "id": "p2p2l9hRorRo"
      }
    },
    {
      "cell_type": "code",
      "execution_count": 152,
      "metadata": {
        "colab": {
          "base_uri": "https://localhost:8080/"
        },
        "id": "WGArkE-qllaI",
        "outputId": "3d4a67a7-c588-4b98-a7df-44072d534ded"
      },
      "outputs": [
        {
          "output_type": "execute_result",
          "data": {
            "text/plain": [
              "R&D Spend          0\n",
              "Administration     0\n",
              "Marketing Spend    0\n",
              "State              0\n",
              "Profit             0\n",
              "dtype: int64"
            ]
          },
          "metadata": {},
          "execution_count": 152
        }
      ],
      "source": [
        "\n",
        "dataset.dropna(inplace=True )\n",
        "dataset.isna().sum()"
      ]
    },
    {
      "cell_type": "markdown",
      "source": [
        "<h2> Labeling Categorical Data"
      ],
      "metadata": {
        "id": "FKyLo8nnoztv"
      }
    },
    {
      "cell_type": "code",
      "execution_count": 153,
      "metadata": {
        "colab": {
          "base_uri": "https://localhost:8080/",
          "height": 206
        },
        "id": "DlJvhsX2kJtu",
        "outputId": "1884ee9c-515b-483f-b924-9c300ed2de08"
      },
      "outputs": [
        {
          "output_type": "execute_result",
          "data": {
            "text/plain": [
              "    R&D Spend  Administration  Marketing Spend  State    Profit\n",
              "45    1000.23       124153.04          1903.93      2  64926.08\n",
              "46    1315.46       115816.21        297114.46      1  49490.75\n",
              "47       0.00       135426.92             0.00      0  42559.73\n",
              "48     542.05        51743.15             0.00      2  35673.41\n",
              "49       0.00       116983.80         45173.06      0  14681.40"
            ],
            "text/html": [
              "\n",
              "  <div id=\"df-06f50d35-72fa-4576-a669-b93e48e1e923\">\n",
              "    <div class=\"colab-df-container\">\n",
              "      <div>\n",
              "<style scoped>\n",
              "    .dataframe tbody tr th:only-of-type {\n",
              "        vertical-align: middle;\n",
              "    }\n",
              "\n",
              "    .dataframe tbody tr th {\n",
              "        vertical-align: top;\n",
              "    }\n",
              "\n",
              "    .dataframe thead th {\n",
              "        text-align: right;\n",
              "    }\n",
              "</style>\n",
              "<table border=\"1\" class=\"dataframe\">\n",
              "  <thead>\n",
              "    <tr style=\"text-align: right;\">\n",
              "      <th></th>\n",
              "      <th>R&amp;D Spend</th>\n",
              "      <th>Administration</th>\n",
              "      <th>Marketing Spend</th>\n",
              "      <th>State</th>\n",
              "      <th>Profit</th>\n",
              "    </tr>\n",
              "  </thead>\n",
              "  <tbody>\n",
              "    <tr>\n",
              "      <th>45</th>\n",
              "      <td>1000.23</td>\n",
              "      <td>124153.04</td>\n",
              "      <td>1903.93</td>\n",
              "      <td>2</td>\n",
              "      <td>64926.08</td>\n",
              "    </tr>\n",
              "    <tr>\n",
              "      <th>46</th>\n",
              "      <td>1315.46</td>\n",
              "      <td>115816.21</td>\n",
              "      <td>297114.46</td>\n",
              "      <td>1</td>\n",
              "      <td>49490.75</td>\n",
              "    </tr>\n",
              "    <tr>\n",
              "      <th>47</th>\n",
              "      <td>0.00</td>\n",
              "      <td>135426.92</td>\n",
              "      <td>0.00</td>\n",
              "      <td>0</td>\n",
              "      <td>42559.73</td>\n",
              "    </tr>\n",
              "    <tr>\n",
              "      <th>48</th>\n",
              "      <td>542.05</td>\n",
              "      <td>51743.15</td>\n",
              "      <td>0.00</td>\n",
              "      <td>2</td>\n",
              "      <td>35673.41</td>\n",
              "    </tr>\n",
              "    <tr>\n",
              "      <th>49</th>\n",
              "      <td>0.00</td>\n",
              "      <td>116983.80</td>\n",
              "      <td>45173.06</td>\n",
              "      <td>0</td>\n",
              "      <td>14681.40</td>\n",
              "    </tr>\n",
              "  </tbody>\n",
              "</table>\n",
              "</div>\n",
              "      <button class=\"colab-df-convert\" onclick=\"convertToInteractive('df-06f50d35-72fa-4576-a669-b93e48e1e923')\"\n",
              "              title=\"Convert this dataframe to an interactive table.\"\n",
              "              style=\"display:none;\">\n",
              "        \n",
              "  <svg xmlns=\"http://www.w3.org/2000/svg\" height=\"24px\"viewBox=\"0 0 24 24\"\n",
              "       width=\"24px\">\n",
              "    <path d=\"M0 0h24v24H0V0z\" fill=\"none\"/>\n",
              "    <path d=\"M18.56 5.44l.94 2.06.94-2.06 2.06-.94-2.06-.94-.94-2.06-.94 2.06-2.06.94zm-11 1L8.5 8.5l.94-2.06 2.06-.94-2.06-.94L8.5 2.5l-.94 2.06-2.06.94zm10 10l.94 2.06.94-2.06 2.06-.94-2.06-.94-.94-2.06-.94 2.06-2.06.94z\"/><path d=\"M17.41 7.96l-1.37-1.37c-.4-.4-.92-.59-1.43-.59-.52 0-1.04.2-1.43.59L10.3 9.45l-7.72 7.72c-.78.78-.78 2.05 0 2.83L4 21.41c.39.39.9.59 1.41.59.51 0 1.02-.2 1.41-.59l7.78-7.78 2.81-2.81c.8-.78.8-2.07 0-2.86zM5.41 20L4 18.59l7.72-7.72 1.47 1.35L5.41 20z\"/>\n",
              "  </svg>\n",
              "      </button>\n",
              "      \n",
              "  <style>\n",
              "    .colab-df-container {\n",
              "      display:flex;\n",
              "      flex-wrap:wrap;\n",
              "      gap: 12px;\n",
              "    }\n",
              "\n",
              "    .colab-df-convert {\n",
              "      background-color: #E8F0FE;\n",
              "      border: none;\n",
              "      border-radius: 50%;\n",
              "      cursor: pointer;\n",
              "      display: none;\n",
              "      fill: #1967D2;\n",
              "      height: 32px;\n",
              "      padding: 0 0 0 0;\n",
              "      width: 32px;\n",
              "    }\n",
              "\n",
              "    .colab-df-convert:hover {\n",
              "      background-color: #E2EBFA;\n",
              "      box-shadow: 0px 1px 2px rgba(60, 64, 67, 0.3), 0px 1px 3px 1px rgba(60, 64, 67, 0.15);\n",
              "      fill: #174EA6;\n",
              "    }\n",
              "\n",
              "    [theme=dark] .colab-df-convert {\n",
              "      background-color: #3B4455;\n",
              "      fill: #D2E3FC;\n",
              "    }\n",
              "\n",
              "    [theme=dark] .colab-df-convert:hover {\n",
              "      background-color: #434B5C;\n",
              "      box-shadow: 0px 1px 3px 1px rgba(0, 0, 0, 0.15);\n",
              "      filter: drop-shadow(0px 1px 2px rgba(0, 0, 0, 0.3));\n",
              "      fill: #FFFFFF;\n",
              "    }\n",
              "  </style>\n",
              "\n",
              "      <script>\n",
              "        const buttonEl =\n",
              "          document.querySelector('#df-06f50d35-72fa-4576-a669-b93e48e1e923 button.colab-df-convert');\n",
              "        buttonEl.style.display =\n",
              "          google.colab.kernel.accessAllowed ? 'block' : 'none';\n",
              "\n",
              "        async function convertToInteractive(key) {\n",
              "          const element = document.querySelector('#df-06f50d35-72fa-4576-a669-b93e48e1e923');\n",
              "          const dataTable =\n",
              "            await google.colab.kernel.invokeFunction('convertToInteractive',\n",
              "                                                     [key], {});\n",
              "          if (!dataTable) return;\n",
              "\n",
              "          const docLinkHtml = 'Like what you see? Visit the ' +\n",
              "            '<a target=\"_blank\" href=https://colab.research.google.com/notebooks/data_table.ipynb>data table notebook</a>'\n",
              "            + ' to learn more about interactive tables.';\n",
              "          element.innerHTML = '';\n",
              "          dataTable['output_type'] = 'display_data';\n",
              "          await google.colab.output.renderOutput(dataTable, element);\n",
              "          const docLink = document.createElement('div');\n",
              "          docLink.innerHTML = docLinkHtml;\n",
              "          element.appendChild(docLink);\n",
              "        }\n",
              "      </script>\n",
              "    </div>\n",
              "  </div>\n",
              "  "
            ]
          },
          "metadata": {},
          "execution_count": 153
        }
      ],
      "source": [
        "\n",
        "dataset['State']= LabelEncoder().fit_transform(dataset['State'],)\n",
        "dataset.tail()\n"
      ]
    },
    {
      "cell_type": "markdown",
      "source": [
        "<h3> Splitting The Dataset ( 75% Training , 25% Testing )"
      ],
      "metadata": {
        "id": "5HLoabI7o6lh"
      }
    },
    {
      "cell_type": "code",
      "execution_count": 154,
      "metadata": {
        "colab": {
          "base_uri": "https://localhost:8080/"
        },
        "id": "NCWIt9E8kKcB",
        "outputId": "dfe061d9-9de7-4ae0-8070-347ba54bd7eb"
      },
      "outputs": [
        {
          "output_type": "stream",
          "name": "stdout",
          "text": [
            " Data features : ['R&D Spend' 'Administration' 'Marketing Spend' 'State']\n",
            " Output data : Profit \n",
            " \n",
            "Features its max : 471784.1 \n",
            "\n",
            "its min : 0.0\n"
          ]
        }
      ],
      "source": [
        "# Splitting  \n",
        "features_cols = dataset.iloc[:,:-1].values\n",
        "print(f' Data features : {dataset.columns[:-1].values}')\n",
        "\n",
        "output_col = dataset.iloc[:,-1].values\n",
        "print(f' Output data : {dataset.columns[-1]} \\n ')\n",
        "\n",
        "\n",
        "\n",
        "features_train, features_test, output_train, output_test = train_test_split (features_cols, output_col,\n",
        "   test_size = 0.25,   \n",
        "   random_state = 0,)\n",
        "\n",
        "\n",
        "# Checking Data Ranges\n",
        "\n",
        "print(f\"Features its max : {features_train.max()} \\n\\nits min : {features_train.min()}\" )\n",
        "\n"
      ]
    },
    {
      "cell_type": "markdown",
      "source": [
        "<H2> Normalizing Data"
      ],
      "metadata": {
        "id": "qbyf6PTqp3pj"
      }
    },
    {
      "cell_type": "code",
      "execution_count": 155,
      "metadata": {
        "colab": {
          "base_uri": "https://localhost:8080/"
        },
        "id": "M7jNEUxevYHy",
        "outputId": "b7af6479-4554-4633-920a-8487e6e458f5"
      },
      "outputs": [
        {
          "output_type": "stream",
          "name": "stdout",
          "text": [
            "Normlized Features its max : \n",
            "1.0 \n",
            "\n",
            "its min : \n",
            "0.0\n"
          ]
        }
      ],
      "source": [
        "\n",
        "normalizing_scaller =MinMaxScaler()  \n",
        "normalizing_scaller.fit(features_train)\n",
        "features_cols_train_normlized = normalizing_scaller.transform(features_train) \n",
        "features_cols_test_normlized = normalizing_scaller.transform(features_test) \n",
        "\n",
        "print(f\"Normlized Features its max : \\n{features_cols_train_normlized.max()} \\n\\nits min : \\n{features_cols_train_normlized.min()}\" )\n"
      ]
    },
    {
      "cell_type": "markdown",
      "source": [
        "<H2> Our Neural Network Model"
      ],
      "metadata": {
        "id": "ngXZD6hUp_HV"
      }
    },
    {
      "cell_type": "code",
      "execution_count": 156,
      "metadata": {
        "id": "Qxe0J5BLkRS9",
        "colab": {
          "base_uri": "https://localhost:8080/"
        },
        "outputId": "4ee98e87-cc01-4f76-ad8a-b93be1e63fc9"
      },
      "outputs": [
        {
          "output_type": "stream",
          "name": "stdout",
          "text": [
            "Model: \"sequential_11\"\n",
            "_________________________________________________________________\n",
            " Layer (type)                Output Shape              Param #   \n",
            "=================================================================\n",
            " dense_49 (Dense)            (None, 85)                425       \n",
            "                                                                 \n",
            " dense_50 (Dense)            (None, 80)                6880      \n",
            "                                                                 \n",
            " dense_51 (Dense)            (None, 80)                6480      \n",
            "                                                                 \n",
            " dense_52 (Dense)            (None, 80)                6480      \n",
            "                                                                 \n",
            " dense_53 (Dense)            (None, 80)                6480      \n",
            "                                                                 \n",
            " dense_54 (Dense)            (None, 40)                3240      \n",
            "                                                                 \n",
            " Regression_Layer (Dense)    (None, 1)                 41        \n",
            "                                                                 \n",
            "=================================================================\n",
            "Total params: 30,026\n",
            "Trainable params: 30,026\n",
            "Non-trainable params: 0\n",
            "_________________________________________________________________\n"
          ]
        }
      ],
      "source": [
        "# Model Layers\n",
        "\n",
        "model = Sequential()\n",
        "\n",
        "model.add(Dense(85, input_shape=(4,)))\n",
        "model.add(Dense(80, activation=\"relu\"))\n",
        "model.add(Dense(80, activation=\"relu\"))\n",
        "model.add(Dense(80, activation=\"relu\"))\n",
        "model.add(Dense(80, activation=\"relu\"))\n",
        "model.add(Dense(40, activation=\"relu\"))\n",
        "\n",
        "\n",
        "\n",
        "\n",
        "\n",
        "model.add(Dense(1, activation=\"relu\",name= 'Regression_Layer'))\n",
        "\n",
        "model.summary()\n"
      ]
    },
    {
      "cell_type": "code",
      "source": [
        "# Model Metric & Optimizer\n",
        "\n",
        "model.compile(loss='mean_squared_error', optimizer='adam', metrics=['accuracy'])"
      ],
      "metadata": {
        "id": "g3WtWDcbQQZs"
      },
      "execution_count": 157,
      "outputs": []
    },
    {
      "cell_type": "code",
      "source": [
        "# Trainning \n",
        "\n",
        "model.fit(features_train, output_train, batch_size=7, epochs=50, verbose=1)"
      ],
      "metadata": {
        "colab": {
          "base_uri": "https://localhost:8080/"
        },
        "id": "dmnV2sszQaSe",
        "outputId": "14314abb-741a-46f4-a44a-28a0904ac5c0"
      },
      "execution_count": 158,
      "outputs": [
        {
          "output_type": "stream",
          "name": "stdout",
          "text": [
            "Epoch 1/50\n",
            "6/6 [==============================] - 1s 4ms/step - loss: 7860532736.0000 - accuracy: 0.0000e+00\n",
            "Epoch 2/50\n",
            "6/6 [==============================] - 0s 4ms/step - loss: 1147028864.0000 - accuracy: 0.0000e+00\n",
            "Epoch 3/50\n",
            "6/6 [==============================] - 0s 4ms/step - loss: 1347996160.0000 - accuracy: 0.0000e+00\n",
            "Epoch 4/50\n",
            "6/6 [==============================] - 0s 3ms/step - loss: 702983168.0000 - accuracy: 0.0000e+00\n",
            "Epoch 5/50\n",
            "6/6 [==============================] - 0s 4ms/step - loss: 430511552.0000 - accuracy: 0.0000e+00\n",
            "Epoch 6/50\n",
            "6/6 [==============================] - 0s 4ms/step - loss: 444020544.0000 - accuracy: 0.0000e+00\n",
            "Epoch 7/50\n",
            "6/6 [==============================] - 0s 3ms/step - loss: 254145216.0000 - accuracy: 0.0000e+00\n",
            "Epoch 8/50\n",
            "6/6 [==============================] - 0s 3ms/step - loss: 269886208.0000 - accuracy: 0.0000e+00\n",
            "Epoch 9/50\n",
            "6/6 [==============================] - 0s 3ms/step - loss: 248956240.0000 - accuracy: 0.0000e+00\n",
            "Epoch 10/50\n",
            "6/6 [==============================] - 0s 3ms/step - loss: 229961440.0000 - accuracy: 0.0000e+00\n",
            "Epoch 11/50\n",
            "6/6 [==============================] - 0s 3ms/step - loss: 203946224.0000 - accuracy: 0.0000e+00\n",
            "Epoch 12/50\n",
            "6/6 [==============================] - 0s 3ms/step - loss: 202306240.0000 - accuracy: 0.0000e+00\n",
            "Epoch 13/50\n",
            "6/6 [==============================] - 0s 4ms/step - loss: 201443120.0000 - accuracy: 0.0000e+00\n",
            "Epoch 14/50\n",
            "6/6 [==============================] - 0s 3ms/step - loss: 169274704.0000 - accuracy: 0.0000e+00\n",
            "Epoch 15/50\n",
            "6/6 [==============================] - 0s 4ms/step - loss: 177405520.0000 - accuracy: 0.0000e+00\n",
            "Epoch 16/50\n",
            "6/6 [==============================] - 0s 3ms/step - loss: 166842112.0000 - accuracy: 0.0000e+00\n",
            "Epoch 17/50\n",
            "6/6 [==============================] - 0s 3ms/step - loss: 164259744.0000 - accuracy: 0.0000e+00\n",
            "Epoch 18/50\n",
            "6/6 [==============================] - 0s 3ms/step - loss: 158638208.0000 - accuracy: 0.0000e+00\n",
            "Epoch 19/50\n",
            "6/6 [==============================] - 0s 4ms/step - loss: 164982048.0000 - accuracy: 0.0000e+00\n",
            "Epoch 20/50\n",
            "6/6 [==============================] - 0s 4ms/step - loss: 147692720.0000 - accuracy: 0.0000e+00\n",
            "Epoch 21/50\n",
            "6/6 [==============================] - 0s 3ms/step - loss: 152635344.0000 - accuracy: 0.0000e+00\n",
            "Epoch 22/50\n",
            "6/6 [==============================] - 0s 3ms/step - loss: 151984272.0000 - accuracy: 0.0000e+00\n",
            "Epoch 23/50\n",
            "6/6 [==============================] - 0s 4ms/step - loss: 167184656.0000 - accuracy: 0.0000e+00\n",
            "Epoch 24/50\n",
            "6/6 [==============================] - 0s 4ms/step - loss: 186847952.0000 - accuracy: 0.0000e+00\n",
            "Epoch 25/50\n",
            "6/6 [==============================] - 0s 3ms/step - loss: 163254416.0000 - accuracy: 0.0000e+00\n",
            "Epoch 26/50\n",
            "6/6 [==============================] - 0s 4ms/step - loss: 168021760.0000 - accuracy: 0.0000e+00\n",
            "Epoch 27/50\n",
            "6/6 [==============================] - 0s 3ms/step - loss: 140810144.0000 - accuracy: 0.0000e+00\n",
            "Epoch 28/50\n",
            "6/6 [==============================] - 0s 4ms/step - loss: 148426896.0000 - accuracy: 0.0000e+00\n",
            "Epoch 29/50\n",
            "6/6 [==============================] - 0s 5ms/step - loss: 169182480.0000 - accuracy: 0.0000e+00\n",
            "Epoch 30/50\n",
            "6/6 [==============================] - 0s 4ms/step - loss: 152518016.0000 - accuracy: 0.0000e+00\n",
            "Epoch 31/50\n",
            "6/6 [==============================] - 0s 3ms/step - loss: 151029696.0000 - accuracy: 0.0000e+00\n",
            "Epoch 32/50\n",
            "6/6 [==============================] - 0s 3ms/step - loss: 148436560.0000 - accuracy: 0.0000e+00\n",
            "Epoch 33/50\n",
            "6/6 [==============================] - 0s 3ms/step - loss: 144825056.0000 - accuracy: 0.0000e+00\n",
            "Epoch 34/50\n",
            "6/6 [==============================] - 0s 3ms/step - loss: 144327568.0000 - accuracy: 0.0000e+00\n",
            "Epoch 35/50\n",
            "6/6 [==============================] - 0s 3ms/step - loss: 153581408.0000 - accuracy: 0.0000e+00\n",
            "Epoch 36/50\n",
            "6/6 [==============================] - 0s 3ms/step - loss: 186681504.0000 - accuracy: 0.0000e+00\n",
            "Epoch 37/50\n",
            "6/6 [==============================] - 0s 3ms/step - loss: 171954464.0000 - accuracy: 0.0000e+00\n",
            "Epoch 38/50\n",
            "6/6 [==============================] - 0s 4ms/step - loss: 159750112.0000 - accuracy: 0.0000e+00\n",
            "Epoch 39/50\n",
            "6/6 [==============================] - 0s 4ms/step - loss: 156750144.0000 - accuracy: 0.0000e+00\n",
            "Epoch 40/50\n",
            "6/6 [==============================] - 0s 3ms/step - loss: 139661696.0000 - accuracy: 0.0000e+00\n",
            "Epoch 41/50\n",
            "6/6 [==============================] - 0s 3ms/step - loss: 140323760.0000 - accuracy: 0.0000e+00\n",
            "Epoch 42/50\n",
            "6/6 [==============================] - 0s 4ms/step - loss: 140059504.0000 - accuracy: 0.0000e+00\n",
            "Epoch 43/50\n",
            "6/6 [==============================] - 0s 4ms/step - loss: 184683968.0000 - accuracy: 0.0000e+00\n",
            "Epoch 44/50\n",
            "6/6 [==============================] - 0s 4ms/step - loss: 155606080.0000 - accuracy: 0.0000e+00\n",
            "Epoch 45/50\n",
            "6/6 [==============================] - 0s 3ms/step - loss: 138751632.0000 - accuracy: 0.0000e+00\n",
            "Epoch 46/50\n",
            "6/6 [==============================] - 0s 4ms/step - loss: 159093312.0000 - accuracy: 0.0000e+00\n",
            "Epoch 47/50\n",
            "6/6 [==============================] - 0s 4ms/step - loss: 145566496.0000 - accuracy: 0.0000e+00\n",
            "Epoch 48/50\n",
            "6/6 [==============================] - 0s 4ms/step - loss: 133565000.0000 - accuracy: 0.0000e+00\n",
            "Epoch 49/50\n",
            "6/6 [==============================] - 0s 4ms/step - loss: 133062176.0000 - accuracy: 0.0000e+00\n",
            "Epoch 50/50\n",
            "6/6 [==============================] - 0s 4ms/step - loss: 127389256.0000 - accuracy: 0.0000e+00\n"
          ]
        },
        {
          "output_type": "execute_result",
          "data": {
            "text/plain": [
              "<keras.callbacks.History at 0x7f3fe5d20890>"
            ]
          },
          "metadata": {},
          "execution_count": 158
        }
      ]
    },
    {
      "cell_type": "code",
      "source": [
        "# Predicting Test data\n",
        "\n",
        "y_pred = model.predict(features_test)"
      ],
      "metadata": {
        "id": "DY-SbsvSQj5p"
      },
      "execution_count": 159,
      "outputs": []
    },
    {
      "cell_type": "code",
      "source": [
        "# Evaluate with Testing data \n",
        "\n",
        "MSE = mean_squared_error(y_pred, output_test)\n",
        "RMSE = mean_squared_error(y_pred, output_test, squared=False)\n",
        "MAE = mean_absolute_error(y_pred, output_test)\n",
        "MAPE = mean_absolute_percentage_error(y_pred, output_test)\n",
        "print(f'MAE: {round(MAE,2)}')\n",
        "print(f'MSE: {round(MSE,2)}')\n",
        "print(f'RMSE: {round(RMSE,2)}')\n",
        "print(f'MAPE: {round(MAPE*100,2)}%')"
      ],
      "metadata": {
        "colab": {
          "base_uri": "https://localhost:8080/"
        },
        "id": "dhnRJD33Q1s_",
        "outputId": "5243a0d5-ee0c-47d5-878e-9935ee14f296"
      },
      "execution_count": 160,
      "outputs": [
        {
          "output_type": "stream",
          "name": "stdout",
          "text": [
            "MAE: 12578.43\n",
            "MSE: 229492324.26\n",
            "RMSE: 15149.0\n",
            "MAPE: 14.05%\n"
          ]
        }
      ]
    }
  ],
  "metadata": {
    "colab": {
      "collapsed_sections": [],
      "provenance": [],
      "authorship_tag": "ABX9TyM0v0R6ljFJLLOZESN82sy/",
      "include_colab_link": true
    },
    "kernelspec": {
      "display_name": "Python 3",
      "name": "python3"
    },
    "language_info": {
      "name": "python"
    }
  },
  "nbformat": 4,
  "nbformat_minor": 0
}