{
  "cells": [
    {
      "cell_type": "markdown",
      "metadata": {
        "id": "view-in-github",
        "colab_type": "text"
      },
      "source": [
        "<a href=\"https://colab.research.google.com/github/omarreess/DLI-Internship-Data-Science/blob/main/Assignment%2010%20-%20Classification%20Regressor%20.ipynb\" target=\"_parent\"><img src=\"https://colab.research.google.com/assets/colab-badge.svg\" alt=\"Open In Colab\"/></a>"
      ]
    },
    {
      "cell_type": "markdown",
      "metadata": {
        "id": "n40Hti9RnJs6"
      },
      "source": [
        "<h1> <center> Naive Bayes , Classification for Reg Assignment"
      ]
    },
    {
      "cell_type": "markdown",
      "metadata": {
        "id": "Hea3JNnOoEZU"
      },
      "source": [
        "<h2> Importing"
      ]
    },
    {
      "cell_type": "code",
      "execution_count": null,
      "metadata": {
        "id": "Cx4tNgKtj1uK"
      },
      "outputs": [],
      "source": [
        "import numpy as np\n",
        "import matplotlib.pyplot as plt \n",
        "from keras.datasets import mnist\n",
        "from sklearn.neighbors import KNeighborsRegressor\n",
        "from sklearn.model_selection import train_test_split \n",
        "from sklearn.svm import SVR\n",
        "from sklearn.tree import DecisionTreeRegressor\n",
        "from sklearn.ensemble import RandomForestRegressor, GradientBoostingRegressor \n",
        "from xgboost import XGBRegressor \n",
        "import lightgbm as ltb\n",
        "from sklearn.ensemble import StackingRegressor\n",
        "\n",
        "\n",
        "\n",
        "from sklearn.metrics import precision_recall_fscore_support \n",
        "from sklearn.metrics import accuracy_score,classification_report,precision_recall_fscore_support\n",
        "from sklearn.preprocessing import label_binarize\n",
        " \n",
        "from sklearn.naive_bayes import CategoricalNB, GaussianNB, ComplementNB, BernoulliNB, MultinomialNB \n",
        "import pandas as pd\n",
        "from sklearn.compose import ColumnTransformer\n",
        "from sklearn.preprocessing import LabelEncoder, OneHotEncoder, MinMaxScaler \n",
        "from sklearn.linear_model import LinearRegression\n",
        "from sklearn.metrics import  mean_squared_error, mean_absolute_error, r2_score , mean_absolute_percentage_error\n",
        " "
      ]
    },
    {
      "cell_type": "markdown",
      "metadata": {
        "id": "pdtiMIgToKfR"
      },
      "source": [
        "<h2> Importing Dataset"
      ]
    },
    {
      "cell_type": "code",
      "execution_count": null,
      "metadata": {
        "colab": {
          "base_uri": "https://localhost:8080/",
          "height": 305
        },
        "id": "PSXg3IBykEBD",
        "outputId": "4948923a-4f40-44c2-f372-8a93591213bf"
      },
      "outputs": [
        {
          "output_type": "display_data",
          "data": {
            "text/plain": [
              "<Figure size 432x288 with 2 Axes>"
            ],
            "image/png": "[encoded data removed]"
          },
          "metadata": {
            "needs_background": "light"
          }
        },
        {
          "output_type": "stream",
          "name": "stdout",
          "text": [
            "New Data shape : (60000, 784)\n",
            "Its Max value : 255\n",
            "Its Min value:0\n",
            "After normalization:\n",
            "Its Max value : 1.0\n",
            "Its Min value:0.0\n"
          ]
        }
      ],
      "source": [
        "(X_train, y_train), (X_test, y_test) = mnist.load_data() \n",
        "\n",
        "# show sample of data\n",
        "plt.subplot(1, 2, 1) \n",
        "plt.imshow(X_test[0]) \n",
        "plt.subplot(1, 2, 2) \n",
        "plt.imshow(X_test[1]) \n",
        "plt.show()\n",
        "\n",
        "# Rehshape\n",
        "X_train = X_train.reshape(X_train.shape[0] , -1)\n",
        "X_test = X_test.reshape(X_test.shape[0] , -1)\n",
        "print(f\"New Data shape : {X_train.shape}\")\n",
        "\n",
        "#Normalizaiton\n",
        "print(f'Its Max value : {X_train.max()}\\nIts Min value:{X_train.min()}') \n",
        "X_train = X_train  / 255.0\n",
        "X_test = X_test / 255.0\n",
        "print(f'After normalization:\\nIts Max value : {X_train.max()}\\nIts Min value:{X_train.min()}')\n",
        "\n"
      ]
    },
    {
      "cell_type": "markdown",
      "source": [
        "<H2> Naive Bayes Algorithm"
      ],
      "metadata": {
        "id": "h4Wtt_eek6AP"
      }
    },
    {
      "cell_type": "code",
      "execution_count": null,
      "metadata": {
        "colab": {
          "base_uri": "https://localhost:8080/"
        },
        "id": "WGArkE-qllaI",
        "outputId": "5770fb61-bced-4849-d18c-328ff972fc3c"
      },
      "outputs": [
        {
          "output_type": "stream",
          "name": "stdout",
          "text": [
            "              precision    recall  f1-score   support\n",
            "\n",
            "           0       0.92      0.93      0.93       980\n",
            "           1       0.91      0.93      0.92      1135\n",
            "           2       0.90      0.83      0.86      1032\n",
            "           3       0.80      0.84      0.82      1010\n",
            "           4       0.84      0.74      0.79       982\n",
            "           5       0.87      0.66      0.75       892\n",
            "           6       0.89      0.90      0.89       958\n",
            "           7       0.93      0.84      0.88      1028\n",
            "           8       0.66      0.80      0.72       974\n",
            "           9       0.71      0.85      0.77      1009\n",
            "\n",
            "    accuracy                           0.84     10000\n",
            "   macro avg       0.84      0.83      0.83     10000\n",
            "weighted avg       0.84      0.84      0.84     10000\n",
            "\n"
          ]
        }
      ],
      "source": [
        "# fitting data\n",
        "classifier_nb = MultinomialNB() \n",
        "classifier_nb.fit(X_train, y_train)\n",
        "\n",
        "y_pred = classifier_nb.predict(X_test) \n",
        "\n",
        "# metric\n",
        "print(classification_report(y_test,y_pred))\n",
        "\n"
      ]
    },
    {
      "cell_type": "markdown",
      "source": [
        "<H1>Importing & Preprocess Nmeric Data for Regression"
      ],
      "metadata": {
        "id": "Sxy6ejNkJHNB"
      }
    },
    {
      "cell_type": "code",
      "source": [
        "# Import \n",
        "dataset = pd.read_csv('/content/50_Startups - 50_Startups.csv')\n",
        "\n",
        "# Clean\n",
        "dataset.dropna(inplace=True )\n",
        "\n",
        "# Labeling categorical data\n",
        "dataset['State']= LabelEncoder().fit_transform(dataset['State'],)\n",
        "dataset.tail()\n",
        "\n",
        "# Splitting  \n",
        "features_cols = dataset.iloc[:,:-1].values\n",
        "output_col = dataset.iloc[:,-1].values\n",
        " \n",
        "\n",
        "\n",
        "features_train, features_test, output_train, output_test = train_test_split (features_cols, output_col,   test_size = 0.25,    \n",
        "                                                                             random_state = 0,)\n",
        "\n",
        "\n",
        "# Normalize\n",
        "   \n",
        "normalizing_scaller =MinMaxScaler()  \n",
        "normalizing_scaller.fit(features_train)\n",
        "features_cols_train_normlized = normalizing_scaller.transform(features_train) \n",
        "features_cols_test_normlized = normalizing_scaller.transform(features_test) \n",
        "\n",
        "dataset.head()\n"
      ],
      "metadata": {
        "colab": {
          "base_uri": "https://localhost:8080/",
          "height": 206
        },
        "id": "Ml1pn_8QJXJa",
        "outputId": "9bdee1b3-4dab-4c02-d87e-08e601ea47e3"
      },
      "execution_count": null,
      "outputs": [
        {
          "output_type": "execute_result",
          "data": {
            "text/plain": [
              "   R&D Spend  Administration  Marketing Spend  State     Profit\n",
              "0  165349.20       136897.80        471784.10      2  192261.83\n",
              "1  162597.70       151377.59        443898.53      0  191792.06\n",
              "2  153441.51       101145.55        407934.54      1  191050.39\n",
              "3  144372.41       118671.85        383199.62      2  182901.99\n",
              "4  142107.34        91391.77        366168.42      1  166187.94"
            ],
            "text/html": [
              "\n",
              "  <div id=\"df-88c8417c-46b3-46e9-b167-9f4cccff589c\">\n",
              "    <div class=\"colab-df-container\">\n",
              "      <div>\n",
              "<style scoped>\n",
              "    .dataframe tbody tr th:only-of-type {\n",
              "        vertical-align: middle;\n",
              "    }\n",
              "\n",
              "    .dataframe tbody tr th {\n",
              "        vertical-align: top;\n",
              "    }\n",
              "\n",
              "    .dataframe thead th {\n",
              "        text-align: right;\n",
              "    }\n",
              "</style>\n",
              "<table border=\"1\" class=\"dataframe\">\n",
              "  <thead>\n",
              "    <tr style=\"text-align: right;\">\n",
              "      <th></th>\n",
              "      <th>R&amp;D Spend</th>\n",
              "      <th>Administration</th>\n",
              "      <th>Marketing Spend</th>\n",
              "      <th>State</th>\n",
              "      <th>Profit</th>\n",
              "    </tr>\n",
              "  </thead>\n",
              "  <tbody>\n",
              "    <tr>\n",
              "      <th>0</th>\n",
              "      <td>165349.20</td>\n",
              "      <td>136897.80</td>\n",
              "      <td>471784.10</td>\n",
              "      <td>2</td>\n",
              "      <td>192261.83</td>\n",
              "    </tr>\n",
              "    <tr>\n",
              "      <th>1</th>\n",
              "      <td>162597.70</td>\n",
              "      <td>151377.59</td>\n",
              "      <td>443898.53</td>\n",
              "      <td>0</td>\n",
              "      <td>191792.06</td>\n",
              "    </tr>\n",
              "    <tr>\n",
              "      <th>2</th>\n",
              "      <td>153441.51</td>\n",
              "      <td>101145.55</td>\n",
              "      <td>407934.54</td>\n",
              "      <td>1</td>\n",
              "      <td>191050.39</td>\n",
              "    </tr>\n",
              "    <tr>\n",
              "      <th>3</th>\n",
              "      <td>144372.41</td>\n",
              "      <td>118671.85</td>\n",
              "      <td>383199.62</td>\n",
              "      <td>2</td>\n",
              "      <td>182901.99</td>\n",
              "    </tr>\n",
              "    <tr>\n",
              "      <th>4</th>\n",
              "      <td>142107.34</td>\n",
              "      <td>91391.77</td>\n",
              "      <td>366168.42</td>\n",
              "      <td>1</td>\n",
              "      <td>166187.94</td>\n",
              "    </tr>\n",
              "  </tbody>\n",
              "</table>\n",
              "</div>\n",
              "      <button class=\"colab-df-convert\" onclick=\"convertToInteractive('df-88c8417c-46b3-46e9-b167-9f4cccff589c')\"\n",
              "              title=\"Convert this dataframe to an interactive table.\"\n",
              "              style=\"display:none;\">\n",
              "        \n",
              "  <svg xmlns=\"http://www.w3.org/2000/svg\" height=\"24px\"viewBox=\"0 0 24 24\"\n",
              "       width=\"24px\">\n",
              "    <path d=\"M0 0h24v24H0V0z\" fill=\"none\"/>\n",
              "    <path d=\"M18.56 5.44l.94 2.06.94-2.06 2.06-.94-2.06-.94-.94-2.06-.94 2.06-2.06.94zm-11 1L8.5 8.5l.94-2.06 2.06-.94-2.06-.94L8.5 2.5l-.94 2.06-2.06.94zm10 10l.94 2.06.94-2.06 2.06-.94-2.06-.94-.94-2.06-.94 2.06-2.06.94z\"/><path d=\"M17.41 7.96l-1.37-1.37c-.4-.4-.92-.59-1.43-.59-.52 0-1.04.2-1.43.59L10.3 9.45l-7.72 7.72c-.78.78-.78 2.05 0 2.83L4 21.41c.39.39.9.59 1.41.59.51 0 1.02-.2 1.41-.59l7.78-7.78 2.81-2.81c.8-.78.8-2.07 0-2.86zM5.41 20L4 18.59l7.72-7.72 1.47 1.35L5.41 20z\"/>\n",
              "  </svg>\n",
              "      </button>\n",
              "      \n",
              "  <style>\n",
              "    .colab-df-container {\n",
              "      display:flex;\n",
              "      flex-wrap:wrap;\n",
              "      gap: 12px;\n",
              "    }\n",
              "\n",
              "    .colab-df-convert {\n",
              "      background-color: #E8F0FE;\n",
              "      border: none;\n",
              "      border-radius: 50%;\n",
              "      cursor: pointer;\n",
              "      display: none;\n",
              "      fill: #1967D2;\n",
              "      height: 32px;\n",
              "      padding: 0 0 0 0;\n",
              "      width: 32px;\n",
              "    }\n",
              "\n",
              "    .colab-df-convert:hover {\n",
              "      background-color: #E2EBFA;\n",
              "      box-shadow: 0px 1px 2px rgba(60, 64, 67, 0.3), 0px 1px 3px 1px rgba(60, 64, 67, 0.15);\n",
              "      fill: #174EA6;\n",
              "    }\n",
              "\n",
              "    [theme=dark] .colab-df-convert {\n",
              "      background-color: #3B4455;\n",
              "      fill: #D2E3FC;\n",
              "    }\n",
              "\n",
              "    [theme=dark] .colab-df-convert:hover {\n",
              "      background-color: #434B5C;\n",
              "      box-shadow: 0px 1px 3px 1px rgba(0, 0, 0, 0.15);\n",
              "      filter: drop-shadow(0px 1px 2px rgba(0, 0, 0, 0.3));\n",
              "      fill: #FFFFFF;\n",
              "    }\n",
              "  </style>\n",
              "\n",
              "      <script>\n",
              "        const buttonEl =\n",
              "          document.querySelector('#df-88c8417c-46b3-46e9-b167-9f4cccff589c button.colab-df-convert');\n",
              "        buttonEl.style.display =\n",
              "          google.colab.kernel.accessAllowed ? 'block' : 'none';\n",
              "\n",
              "        async function convertToInteractive(key) {\n",
              "          const element = document.querySelector('#df-88c8417c-46b3-46e9-b167-9f4cccff589c');\n",
              "          const dataTable =\n",
              "            await google.colab.kernel.invokeFunction('convertToInteractive',\n",
              "                                                     [key], {});\n",
              "          if (!dataTable) return;\n",
              "\n",
              "          const docLinkHtml = 'Like what you see? Visit the ' +\n",
              "            '<a target=\"_blank\" href=https://colab.research.google.com/notebooks/data_table.ipynb>data table notebook</a>'\n",
              "            + ' to learn more about interactive tables.';\n",
              "          element.innerHTML = '';\n",
              "          dataTable['output_type'] = 'display_data';\n",
              "          await google.colab.output.renderOutput(dataTable, element);\n",
              "          const docLink = document.createElement('div');\n",
              "          docLink.innerHTML = docLinkHtml;\n",
              "          element.appendChild(docLink);\n",
              "        }\n",
              "      </script>\n",
              "    </div>\n",
              "  </div>\n",
              "  "
            ]
          },
          "metadata": {},
          "execution_count": 50
        }
      ]
    },
    {
      "cell_type": "markdown",
      "source": [
        "<H2> Classficaiton Algorthims for Regression "
      ],
      "metadata": {
        "id": "zkqdFhTdL1uX"
      }
    },
    {
      "cell_type": "code",
      "source": [
        "# KNN \n",
        "regressor_knn = KNeighborsRegressor(n_neighbors=16) \n",
        "regressor_knn.fit(features_train, output_train)\n",
        "y_pred_knn = regressor_knn.predict(features_test)\n",
        "MAPE\t= mean_absolute_percentage_error(output_test, y_pred_knn)\n",
        "print(f'KNN Regressor with 16 Nieghbors , MAPE: {round(MAPE*100,2)}%')\n",
        "\n",
        "# SVR \n",
        "regressor_svr = SVR(kernel='rbf') \n",
        "regressor_svr.fit(features_train, output_train)\n",
        "y_pred_svr = regressor_svr.predict(features_test)\n",
        "MAPE = mean_absolute_percentage_error(output_test, y_pred_svr) \n",
        "print(f'SVR Regressor For kernel rbf , MAPE: {round(MAPE*100,2)}%')\n",
        "\n",
        "# Decision Tree Regressor\n",
        "regressor_DT = DecisionTreeRegressor() \n",
        "regressor_DT.fit(features_train, output_train)\n",
        "y_pred_DT = regressor_DT.predict(features_test)\n",
        "MAPE\t= mean_absolute_percentage_error(output_test, y_pred_DT) \n",
        "print(f'Decison Tree Regressor ,  MAPE: {round(MAPE*100,2)}%')\n",
        "\n",
        "\n"
      ],
      "metadata": {
        "id": "Oid7vuRzJ-IW",
        "colab": {
          "base_uri": "https://localhost:8080/"
        },
        "outputId": "04de9a8d-422d-426c-ca43-f13251e8945c"
      },
      "execution_count": null,
      "outputs": [
        {
          "output_type": "stream",
          "name": "stdout",
          "text": [
            "KNN Regressor with 16 Nieghbors , MAPE: 17.73%\n",
            "SVR Regressor For kernel rbf , MAPE: 20.55%\n",
            "Decison Tree Regressor ,  MAPE: 5.51%\n"
          ]
        }
      ]
    },
    {
      "cell_type": "markdown",
      "source": [
        "<H2> Ensemble Learning for Regression "
      ],
      "metadata": {
        "id": "cf-6cNUqMYNU"
      }
    },
    {
      "cell_type": "code",
      "source": [
        "## Ensemble Trees for Reg \n",
        "\n",
        "# Random Forest Tree \n",
        "regressor_RF= \tRandomForestRegressor(n_estimators=100)\n",
        "regressor_RF.fit(features_train, output_train)\n",
        "\n",
        "# Gradient Boosting  \n",
        "regressor_GB = GradientBoostingRegressor(n_estimators=100) \n",
        "regressor_GB.fit(features_train, output_train)\n",
        "\n",
        "\n",
        "# XGB\n",
        "regressor_XGB\t= XGBRegressor(n_estimators=100) \n",
        "regressor_XGB.fit(features_train, output_train)\n",
        "\n",
        "# LGb \n",
        "regressor_LGBM =\tltb.LGBMRegressor(n_estimators=100) \n",
        "regressor_LGBM.fit(features_train, output_train)\n",
        "\n",
        " \n",
        "# There Metric\n",
        "y_pred_rf = regressor_XGB.predict(features_test)\n",
        "MAPE=\tmean_absolute_percentage_error(output_test, y_pred_rf) \n",
        "print(f'\\nFor Random Forest , MAPE: {round(MAPE*100,2)}%')\n",
        "\n",
        "y_pred_gb = regressor_GB.predict(features_test)\n",
        "MAPE=\tmean_absolute_percentage_error(output_test, y_pred_gb) \n",
        "print(f'For Gradient Boosting , MAPE: {round(MAPE*100,2)}%')\n",
        "\n",
        "y_pred_xgb = regressor_XGB.predict(features_test)\n",
        "MAPE=\tmean_absolute_percentage_error(output_test, y_pred_xgb) \n",
        "print(f'For XGB , MAPE: {round(MAPE*100,2)}%')\n",
        "\n",
        "y_pred_lgb = regressor_LGBM.predict(features_test)\n",
        "MAPE=\tmean_absolute_percentage_error(output_test, y_pred_lgb) \n",
        "print(f'For LGBM , MAPE: {round(MAPE*100,2)}%')\n",
        "\n",
        "\n"
      ],
      "metadata": {
        "id": "onHkfmthMB2f",
        "colab": {
          "base_uri": "https://localhost:8080/"
        },
        "outputId": "6fbf58aa-5787-4260-c917-2e78932fe282"
      },
      "execution_count": null,
      "outputs": [
        {
          "output_type": "stream",
          "name": "stdout",
          "text": [
            "[10:23:41] WARNING: /workspace/src/objective/regression_obj.cu:152: reg:linear is now deprecated in favor of reg:squarederror.\n",
            "\n",
            "For Random Forest , MAPE: 7.95%\n",
            "For Gradient Boosting , MAPE: 6.44%\n",
            "For XGB , MAPE: 7.95%\n",
            "For LGBM , MAPE: 21.65%\n"
          ]
        }
      ]
    },
    {
      "cell_type": "code",
      "source": [
        "# Stacking Trees \n",
        "estimators = [\n",
        "     ('knn', KNeighborsRegressor(n_neighbors=15) ),\n",
        "     ('svr',  SVR(kernel='rbf') )]\n",
        "regressor_stacking = StackingRegressor(estimators=estimators, final_estimator=LinearRegression())\n",
        "regressor_stacking.fit(features_train, output_train)\n",
        "\n",
        "y_pred_stacking = regressor_GB.predict(features_test)\n",
        "MAPE=\tmean_absolute_percentage_error(output_test, y_pred_stacking) \n",
        "print(f'For Stacking Ensemble , MAPE: {round(MAPE*100,2)}%')\n",
        "\n"
      ],
      "metadata": {
        "colab": {
          "base_uri": "https://localhost:8080/"
        },
        "id": "x8eQ2yKbnr9t",
        "outputId": "9a53282e-71f9-4b17-a4c0-11686a9e8dc3"
      },
      "execution_count": null,
      "outputs": [
        {
          "output_type": "stream",
          "name": "stdout",
          "text": [
            "For Stacking Ensemble , MAPE: 6.44%\n"
          ]
        }
      ]
    }
  ],
  "metadata": {
    "colab": {
      "collapsed_sections": [],
      "provenance": [],
      "authorship_tag": "ABX9TyMt09VIliPz1Ny/qzC4dxvW",
      "include_colab_link": true
    },
    "kernelspec": {
      "display_name": "Python 3",
      "name": "python3"
    },
    "language_info": {
      "name": "python"
    }
  },
  "nbformat": 4,
  "nbformat_minor": 0
}